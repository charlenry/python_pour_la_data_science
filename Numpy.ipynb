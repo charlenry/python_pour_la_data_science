{
 "cells": [
  {
   "cell_type": "markdown",
   "metadata": {},
   "source": [
    "<p align=\"center\"><font size=\"6\"><b>Notebook de Charles-Henri SAINT-MARS</b></font></p>"
   ]
  },
  {
   "cell_type": "markdown",
   "metadata": {},
   "source": [
    "# **NumPy**"
   ]
  },
  {
   "cell_type": "markdown",
   "metadata": {},
   "source": [
    "## N-dimensional array (ndarray)"
   ]
  },
  {
   "cell_type": "markdown",
   "metadata": {},
   "source": [
    "Un `ndarray` (abréviation de N-dimensional array) est la structure de données principale dans la bibliothèque NumPy. C'est un tableau multidimensionnel d'éléments de même type, permettant des opérations rapides et efficaces sur des ensembles de données numériques.\n",
    "\n",
    "Voici quelques points clés à propos des `ndarray` :\n",
    "\n",
    "Caractéristiques d'un `ndarray` :\n",
    "Dimensionnalité : Comme son nom l'indique, un `ndarray` peut avoir un nombre arbitraire de dimensions. Un tableau à 1 dimension est équivalent à une liste Python, un tableau à 2 dimensions peut être vu comme une matrice, et un tableau à N dimensions est plus général.\n",
    "\n",
    "Homogénéité des données : Tous les éléments d'un `ndarray` sont du même type de données (par exemple, tous des entiers, des flottants, etc.). Cela permet d'optimiser les opérations et l'utilisation de la mémoire.\n",
    "\n",
    "Attributs importants :\n",
    "\n",
    "`ndarray.shape` : Renvoie une tuple décrivant les dimensions du tableau (nombre de lignes, colonnes, etc.). <br>\n",
    "`ndarray.ndim` : Renvoie le nombre de dimensions du tableau. <br>\n",
    "`ndarray.size` : Renvoie le nombre total d'éléments dans le tableau. <br>\n",
    "`ndarray.dtype` : Indique le type des éléments du tableau (ex. int32, float64, etc.).\n",
    "\n",
    "**Différence avec les listes Python :** <br>\n",
    "Contrairement aux listes Python, un `ndarray` est plus performant pour des calculs mathématiques et des opérations sur de grandes quantités de données grâce à l'utilisation de types homogènes et de structures mémoire contiguës.\n",
    "\n",
    "En résumé, un `ndarray` est une structure optimisée pour les opérations scientifiques et numériques dans Python, idéale pour manipuler des tableaux de données multidimensionnels."
   ]
  },
  {
   "cell_type": "code",
   "execution_count": 1,
   "metadata": {},
   "outputs": [],
   "source": [
    "import numpy as np"
   ]
  },
  {
   "cell_type": "code",
   "execution_count": 2,
   "metadata": {},
   "outputs": [
    {
     "name": "stdout",
     "output_type": "stream",
     "text": [
      "[ 1  2  3  4  5  6  7  8  9 10 11 12 13 14 15 16 17 18 19 20]\n",
      "4\n"
     ]
    }
   ],
   "source": [
    "notre_tableau = np.array([1, 2, 3, 4, 5, 6, 7, 8, 9, 10, 11, 12, 13, 14 , 15, 16, 17, 18, 19, 20])\n",
    "print(notre_tableau) \n",
    "print(notre_tableau[3])"
   ]
  },
  {
   "cell_type": "code",
   "execution_count": 3,
   "metadata": {},
   "outputs": [
    {
     "name": "stdout",
     "output_type": "stream",
     "text": [
      "[[1 2 3]\n",
      " [4 5 6]\n",
      " [7 8 9]]\n"
     ]
    }
   ],
   "source": [
    "mon_tableau_bidimensionnel = np.array([[1, 2, 3], [4, 5, 6], [7, 8, 9]])\n",
    "print(mon_tableau_bidimensionnel)"
   ]
  },
  {
   "cell_type": "code",
   "execution_count": 4,
   "metadata": {},
   "outputs": [
    {
     "name": "stdout",
     "output_type": "stream",
     "text": [
      "sous_tableau:  [1 2 3 4 5]\n",
      "sous_tableau modifié:  [10  2  3  4  5]\n",
      "notre_tableau modifié également:  [10  2  3  4  5  6  7  8  9 10 11 12 13 14 15 16 17 18 19 20]\n"
     ]
    }
   ],
   "source": [
    "# La vue d'un tableau\n",
    "sous_tableau = notre_tableau[0:5] # index de 0 à 4\n",
    "print(\"sous_tableau: \", sous_tableau)\n",
    "sous_tableau[0] = 10\n",
    "print(\"sous_tableau modifié: \", sous_tableau)\n",
    "print(\"notre_tableau modifié également: \", notre_tableau)"
   ]
  },
  {
   "cell_type": "code",
   "execution_count": 5,
   "metadata": {},
   "outputs": [
    {
     "name": "stdout",
     "output_type": "stream",
     "text": [
      "copie_sous_tableau:  [1 2 3 4 5]\n",
      "copie_sous_tableau modifié:  [10  2  3  4  5]\n",
      "notre_tableau non modifié:  [ 1  2  3  4  5  6  7  8  9 10 11 12 13 14 15 16 17 18 19 20]\n"
     ]
    }
   ],
   "source": [
    "# La copie partielle d'un tableau\n",
    "notre_tableau = np.array([1, 2, 3, 4, 5, 6, 7, 8, 9, 10, 11, 12, 13, 14 , 15, 16, 17, 18, 19, 20])\n",
    "copie_sous_tableau = notre_tableau[0:5].copy()\n",
    "print(\"copie_sous_tableau: \", copie_sous_tableau)\n",
    "copie_sous_tableau[0] = 10\n",
    "print(\"copie_sous_tableau modifié: \", copie_sous_tableau)\n",
    "print(\"notre_tableau non modifié: \", notre_tableau)"
   ]
  },
  {
   "cell_type": "code",
   "execution_count": 6,
   "metadata": {},
   "outputs": [
    {
     "data": {
      "text/plain": [
       "6"
      ]
     },
     "execution_count": 6,
     "metadata": {},
     "output_type": "execute_result"
    }
   ],
   "source": [
    "# Accès à un élément d'un tableau bidimensionnel\n",
    "mon_tableau_bidimensionnel[1,2] # deuxième ligne, troisième colonne\n",
    "# Pour accéder à l'élément 6, on écrit mon_tableau_bidimensionnel[1,2] où 1 est l'index de la ligne et 2 est l'index de la colonne de l'élément 6.\n",
    "# Le index des lignes et des colonnes comment à partir de 0.\n",
    "\n",
    "# Deuxième manière d'accéder à un élément d'un tableau bidimensionnel\n",
    "# mon_tableau_bidimensionnel[1][2]"
   ]
  },
  {
   "cell_type": "code",
   "execution_count": 7,
   "metadata": {},
   "outputs": [
    {
     "data": {
      "text/plain": [
       "6"
      ]
     },
     "execution_count": 7,
     "metadata": {},
     "output_type": "execute_result"
    }
   ],
   "source": [
    "# Accès à un élément d'un tableau bidimensionnel avec des indices négatifs\n",
    "mon_tableau_bidimensionnel[1,-1] # deuxième ligne, dernière colonne"
   ]
  },
  {
   "cell_type": "code",
   "execution_count": 8,
   "metadata": {},
   "outputs": [
    {
     "name": "stdout",
     "output_type": "stream",
     "text": [
      "[1 4 7]\n"
     ]
    }
   ],
   "source": [
    "# Afficher toutes les lignes de la première colonne en utilisant le slicing\n",
    "print(mon_tableau_bidimensionnel[:,0]) # : signifie toutes les lignes\n",
    "# On peut voir les : comme un raccourci pour dire \"du début jusqu'à la fin de l'ensemble des lignes\"."
   ]
  },
  {
   "cell_type": "code",
   "execution_count": 9,
   "metadata": {},
   "outputs": [
    {
     "name": "stdout",
     "output_type": "stream",
     "text": [
      "[4 5 6]\n"
     ]
    }
   ],
   "source": [
    "# Afficher toutes les colonnes de la deuxième ligne en utilisant le slicing\n",
    "print(mon_tableau_bidimensionnel[1,:]) # : signifie toutes les colonnes"
   ]
  },
  {
   "cell_type": "code",
   "execution_count": 10,
   "metadata": {},
   "outputs": [
    {
     "name": "stdout",
     "output_type": "stream",
     "text": [
      "[[1 3]\n",
      " [4 6]\n",
      " [7 9]]\n"
     ]
    }
   ],
   "source": [
    "# Afficher toutes les lignes d'une part et les colonnes avec un pas de 2 d'autre part\n",
    "print(mon_tableau_bidimensionnel[::,::2])\n"
   ]
  },
  {
   "cell_type": "code",
   "execution_count": 11,
   "metadata": {},
   "outputs": [
    {
     "name": "stdout",
     "output_type": "stream",
     "text": [
      "[3 6 9]\n"
     ]
    }
   ],
   "source": [
    "# Afficher toutes lignes de la dernière colonne en utilisant un index négatif\n",
    "print(mon_tableau_bidimensionnel[:,-1])"
   ]
  },
  {
   "cell_type": "code",
   "execution_count": 12,
   "metadata": {},
   "outputs": [
    {
     "name": "stdout",
     "output_type": "stream",
     "text": [
      "[[2]\n",
      " [5]\n",
      " [8]]\n"
     ]
    }
   ],
   "source": [
    "print(mon_tableau_bidimensionnel[:,1:-1]) # toutes les lignes, de la deuxième colonne à l'avant dernière colonne\n",
    "# -1 est l'index de la fin dans le slicing donc il est exclusif. Cela revient à désigner l'avant dernière colonne (index -2)."
   ]
  },
  {
   "cell_type": "code",
   "execution_count": 13,
   "metadata": {},
   "outputs": [
    {
     "name": "stdout",
     "output_type": "stream",
     "text": [
      "[8]\n",
      "[8]\n"
     ]
    }
   ],
   "source": [
    "# Afficher la dernière ligne et la deuxième colonne en utilisant le slicing\n",
    "print(mon_tableau_bidimensionnel[-1,1:-1])\n",
    "\n",
    "# Deuxième manière d'accéder à la dernière ligne et la deuxième colonne\n",
    "print(mon_tableau_bidimensionnel[-1,1:2])"
   ]
  },
  {
   "cell_type": "code",
   "execution_count": 14,
   "metadata": {},
   "outputs": [
    {
     "name": "stdout",
     "output_type": "stream",
     "text": [
      "[[ 3 60 87 14]\n",
      " [76 31 95  4]\n",
      " [83 80 62 36]\n",
      " [18 64 15 30]\n",
      " [54 82 53 69]\n",
      " [40  0 87 69]]\n"
     ]
    }
   ],
   "source": [
    "# Créer une matrice de 6 x 4 avec des nombres aléatoires à l'aide de la fonction randint() de numpy.\n",
    "# Les valeurs vont de 0 à 100 (0 est inclusif et 100 est exclusif).\n",
    "matrice = np.random.randint(0, 100, (6, 4))\n",
    "print(matrice)"
   ]
  },
  {
   "cell_type": "markdown",
   "metadata": {},
   "source": [
    "### Les attribut d'un ndarray (N-dimensional array)"
   ]
  },
  {
   "cell_type": "code",
   "execution_count": 15,
   "metadata": {},
   "outputs": [
    {
     "data": {
      "text/plain": [
       "2"
      ]
     },
     "execution_count": 15,
     "metadata": {},
     "output_type": "execute_result"
    }
   ],
   "source": [
    "matrice.ndim # nombre de dimensions"
   ]
  },
  {
   "cell_type": "code",
   "execution_count": 16,
   "metadata": {},
   "outputs": [
    {
     "data": {
      "text/plain": [
       "(6, 4)"
      ]
     },
     "execution_count": 16,
     "metadata": {},
     "output_type": "execute_result"
    }
   ],
   "source": [
    "matrice.shape # forme de la matrice"
   ]
  },
  {
   "cell_type": "code",
   "execution_count": 17,
   "metadata": {},
   "outputs": [
    {
     "data": {
      "text/plain": [
       "dtype('int32')"
      ]
     },
     "execution_count": 17,
     "metadata": {},
     "output_type": "execute_result"
    }
   ],
   "source": [
    "matrice.dtype # type des éléments de la matrice"
   ]
  },
  {
   "cell_type": "code",
   "execution_count": 18,
   "metadata": {},
   "outputs": [
    {
     "data": {
      "text/plain": [
       "24"
      ]
     },
     "execution_count": 18,
     "metadata": {},
     "output_type": "execute_result"
    }
   ],
   "source": [
    "matrice.size # nombre total d'éléments dans la matrice"
   ]
  },
  {
   "cell_type": "code",
   "execution_count": 19,
   "metadata": {},
   "outputs": [
    {
     "data": {
      "text/plain": [
       "array([60, 87, 76, 95, 83, 80, 62, 64, 54, 82, 53, 69, 87, 69])"
      ]
     },
     "execution_count": 19,
     "metadata": {},
     "output_type": "execute_result"
    }
   ],
   "source": [
    "matrice[matrice > 50] # sélectionner les éléments de la matrice qui sont supérieurs à 50"
   ]
  },
  {
   "cell_type": "code",
   "execution_count": 20,
   "metadata": {},
   "outputs": [
    {
     "data": {
      "text/plain": [
       "array([[False,  True,  True, False],\n",
       "       [ True, False,  True, False],\n",
       "       [ True,  True,  True, False],\n",
       "       [False,  True, False, False],\n",
       "       [ True,  True,  True,  True],\n",
       "       [False, False,  True,  True]])"
      ]
     },
     "execution_count": 20,
     "metadata": {},
     "output_type": "execute_result"
    }
   ],
   "source": [
    "matrice > 50 # renvoie un tableau de booléens"
   ]
  },
  {
   "cell_type": "markdown",
   "metadata": {},
   "source": [
    "Ce qui est True pour matrice > 50 est affiché et ce qui est False n'est pas affiché"
   ]
  },
  {
   "cell_type": "code",
   "execution_count": 21,
   "metadata": {},
   "outputs": [
    {
     "data": {
      "text/plain": [
       "array([60, 62, 64, 54, 53, 69, 69])"
      ]
     },
     "execution_count": 21,
     "metadata": {},
     "output_type": "execute_result"
    }
   ],
   "source": [
    "matrice[(matrice >= 50) & (matrice <= 70)] # sélectionner les éléments de la matrice qui sont supérieurs ou égaux à 50 et inférieurs ou égaux à 70"
   ]
  },
  {
   "cell_type": "code",
   "execution_count": 22,
   "metadata": {},
   "outputs": [
    {
     "data": {
      "text/plain": [
       "array([ 3, 60, 87, 14, 76, 95,  4, 83, 80, 62, 18, 64, 15, 30, 54, 82, 53,\n",
       "       69,  0, 87, 69])"
      ]
     },
     "execution_count": 22,
     "metadata": {},
     "output_type": "execute_result"
    }
   ],
   "source": [
    "matrice[(matrice >=50 ) | (matrice <= 30)]  # sélectionner les éléments de la matrice qui sont supérieurs ou égaux à 50 ou inférieurs ou égaux à 30"
   ]
  },
  {
   "cell_type": "code",
   "execution_count": 23,
   "metadata": {},
   "outputs": [
    {
     "name": "stdout",
     "output_type": "stream",
     "text": [
      "[[ 1  2  3]\n",
      " [ 4  5  6]\n",
      " [ 7  8  9]\n",
      " [10 11 12]]\n"
     ]
    }
   ],
   "source": [
    "# Concaténation de tableaux\n",
    "tableau1 = np.array([[1, 2, 3], [4, 5, 6]])\n",
    "tableau2 = np.array([[7, 8, 9], [10, 11, 12]])\n",
    "tableau3 = np.concatenate([tableau1, tableau2], axis=0) # concaténation verticale\n",
    "print(tableau3)"
   ]
  },
  {
   "cell_type": "code",
   "execution_count": 24,
   "metadata": {},
   "outputs": [
    {
     "name": "stdout",
     "output_type": "stream",
     "text": [
      "[[ 1  2  3  7  8  9]\n",
      " [ 4  5  6 10 11 12]]\n"
     ]
    }
   ],
   "source": [
    "# Concaténation horizontale de tableaux\n",
    "tableau4 = np.concatenate([tableau1, tableau2], axis=1) # concaténation horizontale\n",
    "print(tableau4)"
   ]
  },
  {
   "cell_type": "code",
   "execution_count": 25,
   "metadata": {},
   "outputs": [
    {
     "name": "stdout",
     "output_type": "stream",
     "text": [
      "[[ 1  2  3]\n",
      " [ 4  5  6]\n",
      " [ 7  8  9]\n",
      " [10 11 12]]\n"
     ]
    }
   ],
   "source": [
    "# Concaténation de tableaux de dimensions différentes\n",
    "tableau5 = np.array([1, 2, 3])\n",
    "tableau6 = np.array([[4, 5, 6], [7, 8, 9], [10, 11, 12]])\n",
    "tableau7 = np.vstack([tableau5, tableau6]) # concaténation verticale\n",
    "print(tableau7)"
   ]
  },
  {
   "cell_type": "code",
   "execution_count": 26,
   "metadata": {},
   "outputs": [
    {
     "name": "stdout",
     "output_type": "stream",
     "text": [
      "[[ 4  5  6  1]\n",
      " [ 7  8  9  2]\n",
      " [10 11 12  3]]\n"
     ]
    }
   ],
   "source": [
    "# Concaténation horizontale de tableaux de dimensions différentes\n",
    "tableau8 = np.hstack([tableau6, tableau5.reshape(3,1)]) # concaténation horizontale\n",
    "print(tableau8)"
   ]
  },
  {
   "cell_type": "code",
   "execution_count": 27,
   "metadata": {},
   "outputs": [
    {
     "name": "stdout",
     "output_type": "stream",
     "text": [
      "[1 2] [3 4 5 6] [ 7  8  9 10]\n"
     ]
    }
   ],
   "source": [
    " # Créer un tableau de 10 éléments\n",
    "array = np.array([1, 2, 3, 4, 5, 6, 7, 8, 9, 10])\n",
    "len(array) # longueur du tableau : 10\n",
    "array1, array2, array3 = np.split(array, [2, 6]) # découper le tableau en trois parties\n",
    "# 2 est l'index du début de la première découpe et 6 est l'index du début de la deuxième découpe.\n",
    "print(array1, array2, array3)"
   ]
  },
  {
   "cell_type": "code",
   "execution_count": 28,
   "metadata": {},
   "outputs": [
    {
     "data": {
      "text/plain": [
       "array([[ 1,  2,  3,  4],\n",
       "       [ 5,  6,  7,  8],\n",
       "       [ 9, 10, 11, 12]])"
      ]
     },
     "execution_count": 28,
     "metadata": {},
     "output_type": "execute_result"
    }
   ],
   "source": [
    "# Créer un tableau bidimensionnel\n",
    "array = np.array([[1, 2, 3, 4], [5, 6, 7, 8], [9, 10, 11, 12]])\n",
    "array"
   ]
  },
  {
   "cell_type": "code",
   "execution_count": 29,
   "metadata": {},
   "outputs": [],
   "source": [
    "# Axes de découpe\n",
    "# axis = 0 # axe des index des lignes (dit aussi vertical car les index des lignes sont sur l'axe vertical)\n",
    "# axis = 1 # axe des index des colonnes (dit aussi horizontal car les index des colonnes sont sur l'axe horizontal)"
   ]
  },
  {
   "cell_type": "code",
   "execution_count": 30,
   "metadata": {},
   "outputs": [
    {
     "name": "stdout",
     "output_type": "stream",
     "text": [
      "array1 : \n",
      "[[1 2 3 4]\n",
      " [5 6 7 8]]\n",
      "\n",
      "array2 : \n",
      "[[ 9 10 11 12]]\n"
     ]
    }
   ],
   "source": [
    "# Découper le tableau en deux parties selon l'axe 0 (vertical)\n",
    "array1, array2 = np.vsplit(array, [2]) # [2] est l'index de la première ligne de la deuxième partie\n",
    "print(\"array1 : \")\n",
    "print(array1)\n",
    "print(\"\")\n",
    "print(\"array2 : \")\n",
    "print(array2)"
   ]
  },
  {
   "cell_type": "code",
   "execution_count": 31,
   "metadata": {},
   "outputs": [
    {
     "name": "stdout",
     "output_type": "stream",
     "text": [
      "array1 : \n",
      "[[ 1  2]\n",
      " [ 5  6]\n",
      " [ 9 10]]\n",
      "\n",
      "array2 : \n",
      "[[ 3  4]\n",
      " [ 7  8]\n",
      " [11 12]]\n"
     ]
    }
   ],
   "source": [
    "# Découper le tableau en deux parties selon l'axe 1 (horizontal)\n",
    "array1, array2 = np.hsplit(array, [2]) # [2] est l'index de la première colonne de la deuxième partie\n",
    "print(\"array1 : \")\n",
    "print(array1)\n",
    "print(\"\")\n",
    "print(\"array2 : \")\n",
    "print(array2)"
   ]
  },
  {
   "cell_type": "markdown",
   "metadata": {},
   "source": [
    "### Opérations arithmétiques sur les tableaux"
   ]
  },
  {
   "cell_type": "code",
   "execution_count": 32,
   "metadata": {},
   "outputs": [
    {
     "name": "stdout",
     "output_type": "stream",
     "text": [
      "[[188 254 275 243  82 127 221 267  85]\n",
      " [104 302  45 280 330 251  99 323 240]\n",
      " [170  99  91 146 336 155  12 176 204]\n",
      " [332 122 227  26 330  44 137 137  72]\n",
      " [137 162 248 338 257  91 195  79 276]\n",
      " [ 29  61 189  11 195 323 323 108  17]\n",
      " [336 166 110 248  16 273  19 181 103]\n",
      " [210  70  42 253 309 103 304 244  21]\n",
      " [ 16 119 255 106 328 248 344 309  17]\n",
      " [322 317  26  47  16 315  12 217  29]]\n"
     ]
    }
   ],
   "source": [
    " # Créer tableau aléatoire de 10 lignes et 9 colonnes avec des valeurs comprises entre 0 et 350 (avec 350 exclus)\n",
    "array = np.random.randint(350, size=(10, 9))\n",
    "print(array)"
   ]
  },
  {
   "cell_type": "code",
   "execution_count": 33,
   "metadata": {},
   "outputs": [
    {
     "data": {
      "text/plain": [
       "array([[190, 256, 277, 245,  84, 129, 223, 269,  87],\n",
       "       [106, 304,  47, 282, 332, 253, 101, 325, 242],\n",
       "       [172, 101,  93, 148, 338, 157,  14, 178, 206],\n",
       "       [334, 124, 229,  28, 332,  46, 139, 139,  74],\n",
       "       [139, 164, 250, 340, 259,  93, 197,  81, 278],\n",
       "       [ 31,  63, 191,  13, 197, 325, 325, 110,  19],\n",
       "       [338, 168, 112, 250,  18, 275,  21, 183, 105],\n",
       "       [212,  72,  44, 255, 311, 105, 306, 246,  23],\n",
       "       [ 18, 121, 257, 108, 330, 250, 346, 311,  19],\n",
       "       [324, 319,  28,  49,  18, 317,  14, 219,  31]])"
      ]
     },
     "execution_count": 33,
     "metadata": {},
     "output_type": "execute_result"
    }
   ],
   "source": [
    "array + 2 # ajouter 2 à chaque élément du tableau"
   ]
  },
  {
   "cell_type": "code",
   "execution_count": 34,
   "metadata": {},
   "outputs": [
    {
     "name": "stdout",
     "output_type": "stream",
     "text": [
      "[[188 254 275 243  82 127 221 267  85]\n",
      " [104 302  45 280 330 251  99 323 240]\n",
      " [170  99  91 146 336 155  12 176 204]\n",
      " [332 122 227  26 330  44 137 137  72]\n",
      " [137 162 248 338 257  91 195  79 276]\n",
      " [ 29  61 189  11 195 323 323 108  17]\n",
      " [336 166 110 248  16 273  19 181 103]\n",
      " [210  70  42 253 309 103 304 244  21]\n",
      " [ 16 119 255 106 328 248 344 309  17]\n",
      " [322 317  26  47  16 315  12 217  29]]\n"
     ]
    }
   ],
   "source": [
    "print(array)"
   ]
  },
  {
   "cell_type": "code",
   "execution_count": 35,
   "metadata": {},
   "outputs": [
    {
     "data": {
      "text/plain": [
       "array([[186, 252, 273, 241,  80, 125, 219, 265,  83],\n",
       "       [102, 300,  43, 278, 328, 249,  97, 321, 238],\n",
       "       [168,  97,  89, 144, 334, 153,  10, 174, 202],\n",
       "       [330, 120, 225,  24, 328,  42, 135, 135,  70],\n",
       "       [135, 160, 246, 336, 255,  89, 193,  77, 274],\n",
       "       [ 27,  59, 187,   9, 193, 321, 321, 106,  15],\n",
       "       [334, 164, 108, 246,  14, 271,  17, 179, 101],\n",
       "       [208,  68,  40, 251, 307, 101, 302, 242,  19],\n",
       "       [ 14, 117, 253, 104, 326, 246, 342, 307,  15],\n",
       "       [320, 315,  24,  45,  14, 313,  10, 215,  27]])"
      ]
     },
     "execution_count": 35,
     "metadata": {},
     "output_type": "execute_result"
    }
   ],
   "source": [
    "array - 2 # soustraire 2 à chaque élément du tableau"
   ]
  },
  {
   "cell_type": "code",
   "execution_count": 36,
   "metadata": {},
   "outputs": [
    {
     "data": {
      "text/plain": [
       "array([[376, 508, 550, 486, 164, 254, 442, 534, 170],\n",
       "       [208, 604,  90, 560, 660, 502, 198, 646, 480],\n",
       "       [340, 198, 182, 292, 672, 310,  24, 352, 408],\n",
       "       [664, 244, 454,  52, 660,  88, 274, 274, 144],\n",
       "       [274, 324, 496, 676, 514, 182, 390, 158, 552],\n",
       "       [ 58, 122, 378,  22, 390, 646, 646, 216,  34],\n",
       "       [672, 332, 220, 496,  32, 546,  38, 362, 206],\n",
       "       [420, 140,  84, 506, 618, 206, 608, 488,  42],\n",
       "       [ 32, 238, 510, 212, 656, 496, 688, 618,  34],\n",
       "       [644, 634,  52,  94,  32, 630,  24, 434,  58]])"
      ]
     },
     "execution_count": 36,
     "metadata": {},
     "output_type": "execute_result"
    }
   ],
   "source": [
    "array * 2 # multiplier chaque élément du tableau par 2 "
   ]
  },
  {
   "cell_type": "code",
   "execution_count": 37,
   "metadata": {},
   "outputs": [
    {
     "data": {
      "text/plain": [
       "array([1880, 1040, 1700, 3320, 1370,  290, 3360, 2100,  160, 3220])"
      ]
     },
     "execution_count": 37,
     "metadata": {},
     "output_type": "execute_result"
    }
   ],
   "source": [
    "array[:,0] * 10 # multiplier la première colonne par 10"
   ]
  },
  {
   "cell_type": "code",
   "execution_count": 38,
   "metadata": {},
   "outputs": [
    {
     "name": "stdout",
     "output_type": "stream",
     "text": [
      "[[188 254 275 243  82 127 221 267  85]\n",
      " [104 302  45 280 330 251  99 323 240]\n",
      " [170  99  91 146 336 155  12 176 204]\n",
      " [332 122 227  26 330  44 137 137  72]\n",
      " [137 162 248 338 257  91 195  79 276]\n",
      " [ 29  61 189  11 195 323 323 108  17]\n",
      " [336 166 110 248  16 273  19 181 103]\n",
      " [210  70  42 253 309 103 304 244  21]\n",
      " [ 16 119 255 106 328 248 344 309  17]\n",
      " [322 317  26  47  16 315  12 217  29]]\n"
     ]
    }
   ],
   "source": [
    "print(array)"
   ]
  },
  {
   "cell_type": "code",
   "execution_count": 39,
   "metadata": {},
   "outputs": [
    {
     "data": {
      "text/plain": [
       "array([[ 94. , 127. , 137.5, 121.5,  41. ,  63.5, 110.5, 133.5,  42.5],\n",
       "       [ 52. , 151. ,  22.5, 140. , 165. , 125.5,  49.5, 161.5, 120. ],\n",
       "       [ 85. ,  49.5,  45.5,  73. , 168. ,  77.5,   6. ,  88. , 102. ],\n",
       "       [166. ,  61. , 113.5,  13. , 165. ,  22. ,  68.5,  68.5,  36. ],\n",
       "       [ 68.5,  81. , 124. , 169. , 128.5,  45.5,  97.5,  39.5, 138. ],\n",
       "       [ 14.5,  30.5,  94.5,   5.5,  97.5, 161.5, 161.5,  54. ,   8.5],\n",
       "       [168. ,  83. ,  55. , 124. ,   8. , 136.5,   9.5,  90.5,  51.5],\n",
       "       [105. ,  35. ,  21. , 126.5, 154.5,  51.5, 152. , 122. ,  10.5],\n",
       "       [  8. ,  59.5, 127.5,  53. , 164. , 124. , 172. , 154.5,   8.5],\n",
       "       [161. , 158.5,  13. ,  23.5,   8. , 157.5,   6. , 108.5,  14.5]])"
      ]
     },
     "execution_count": 39,
     "metadata": {},
     "output_type": "execute_result"
    }
   ],
   "source": [
    "array / 2 # diviser chaque élément du tableau par 2"
   ]
  },
  {
   "cell_type": "markdown",
   "metadata": {},
   "source": [
    "### Les méthodes de Numpy pour les opérations arithmétiques"
   ]
  },
  {
   "cell_type": "code",
   "execution_count": 40,
   "metadata": {},
   "outputs": [
    {
     "data": {
      "text/plain": [
       "array([[190, 256, 277, 245,  84, 129, 223, 269,  87],\n",
       "       [106, 304,  47, 282, 332, 253, 101, 325, 242],\n",
       "       [172, 101,  93, 148, 338, 157,  14, 178, 206],\n",
       "       [334, 124, 229,  28, 332,  46, 139, 139,  74],\n",
       "       [139, 164, 250, 340, 259,  93, 197,  81, 278],\n",
       "       [ 31,  63, 191,  13, 197, 325, 325, 110,  19],\n",
       "       [338, 168, 112, 250,  18, 275,  21, 183, 105],\n",
       "       [212,  72,  44, 255, 311, 105, 306, 246,  23],\n",
       "       [ 18, 121, 257, 108, 330, 250, 346, 311,  19],\n",
       "       [324, 319,  28,  49,  18, 317,  14, 219,  31]])"
      ]
     },
     "execution_count": 40,
     "metadata": {},
     "output_type": "execute_result"
    }
   ],
   "source": [
    "# Ajouter 2 à chaque élément du tableau en utilisant la méthode add() de numpy\n",
    "np.add(array, 2) "
   ]
  },
  {
   "cell_type": "code",
   "execution_count": 41,
   "metadata": {},
   "outputs": [
    {
     "data": {
      "text/plain": [
       "array([[186, 252, 273, 241,  80, 125, 219, 265,  83],\n",
       "       [102, 300,  43, 278, 328, 249,  97, 321, 238],\n",
       "       [168,  97,  89, 144, 334, 153,  10, 174, 202],\n",
       "       [330, 120, 225,  24, 328,  42, 135, 135,  70],\n",
       "       [135, 160, 246, 336, 255,  89, 193,  77, 274],\n",
       "       [ 27,  59, 187,   9, 193, 321, 321, 106,  15],\n",
       "       [334, 164, 108, 246,  14, 271,  17, 179, 101],\n",
       "       [208,  68,  40, 251, 307, 101, 302, 242,  19],\n",
       "       [ 14, 117, 253, 104, 326, 246, 342, 307,  15],\n",
       "       [320, 315,  24,  45,  14, 313,  10, 215,  27]])"
      ]
     },
     "execution_count": 41,
     "metadata": {},
     "output_type": "execute_result"
    }
   ],
   "source": [
    "# Retrancher 2 à chaque élément du tableau en utilisant la méthode subtract() de numpy\n",
    "np.subtract(array, 2)"
   ]
  },
  {
   "cell_type": "code",
   "execution_count": 42,
   "metadata": {},
   "outputs": [
    {
     "data": {
      "text/plain": [
       "array([[376, 508, 550, 486, 164, 254, 442, 534, 170],\n",
       "       [208, 604,  90, 560, 660, 502, 198, 646, 480],\n",
       "       [340, 198, 182, 292, 672, 310,  24, 352, 408],\n",
       "       [664, 244, 454,  52, 660,  88, 274, 274, 144],\n",
       "       [274, 324, 496, 676, 514, 182, 390, 158, 552],\n",
       "       [ 58, 122, 378,  22, 390, 646, 646, 216,  34],\n",
       "       [672, 332, 220, 496,  32, 546,  38, 362, 206],\n",
       "       [420, 140,  84, 506, 618, 206, 608, 488,  42],\n",
       "       [ 32, 238, 510, 212, 656, 496, 688, 618,  34],\n",
       "       [644, 634,  52,  94,  32, 630,  24, 434,  58]])"
      ]
     },
     "execution_count": 42,
     "metadata": {},
     "output_type": "execute_result"
    }
   ],
   "source": [
    "# Multiplier par 2 chaque élément du tableau en utilisant la méthode multiply() de numpy\n",
    "np.multiply(array, 2)"
   ]
  },
  {
   "cell_type": "code",
   "execution_count": 43,
   "metadata": {},
   "outputs": [
    {
     "data": {
      "text/plain": [
       "array([[ 94. , 127. , 137.5, 121.5,  41. ,  63.5, 110.5, 133.5,  42.5],\n",
       "       [ 52. , 151. ,  22.5, 140. , 165. , 125.5,  49.5, 161.5, 120. ],\n",
       "       [ 85. ,  49.5,  45.5,  73. , 168. ,  77.5,   6. ,  88. , 102. ],\n",
       "       [166. ,  61. , 113.5,  13. , 165. ,  22. ,  68.5,  68.5,  36. ],\n",
       "       [ 68.5,  81. , 124. , 169. , 128.5,  45.5,  97.5,  39.5, 138. ],\n",
       "       [ 14.5,  30.5,  94.5,   5.5,  97.5, 161.5, 161.5,  54. ,   8.5],\n",
       "       [168. ,  83. ,  55. , 124. ,   8. , 136.5,   9.5,  90.5,  51.5],\n",
       "       [105. ,  35. ,  21. , 126.5, 154.5,  51.5, 152. , 122. ,  10.5],\n",
       "       [  8. ,  59.5, 127.5,  53. , 164. , 124. , 172. , 154.5,   8.5],\n",
       "       [161. , 158.5,  13. ,  23.5,   8. , 157.5,   6. , 108.5,  14.5]])"
      ]
     },
     "execution_count": 43,
     "metadata": {},
     "output_type": "execute_result"
    }
   ],
   "source": [
    "# Diviser par 2 chaque élément du tableau en utilisant la méthode divide() de numpy\n",
    "np.divide(array, 2)"
   ]
  },
  {
   "cell_type": "markdown",
   "metadata": {},
   "source": [
    "### Les méthodes de Numpy pour les calculs statistiques"
   ]
  },
  {
   "cell_type": "code",
   "execution_count": 44,
   "metadata": {},
   "outputs": [
    {
     "name": "stdout",
     "output_type": "stream",
     "text": [
      "173.57777777777778\n",
      "173.57777777777778\n"
     ]
    }
   ],
   "source": [
    "print(np.mean(array)) # moyenne des éléments du tableau\n",
    "print(array.mean()) # moyenne des éléments du tableau"
   ]
  },
  {
   "cell_type": "code",
   "execution_count": 45,
   "metadata": {},
   "outputs": [
    {
     "name": "stdout",
     "output_type": "stream",
     "text": [
      "[184.4 167.2 150.8 169.8 219.9 193.  166.6 204.1 106.4]\n"
     ]
    }
   ],
   "source": [
    "# Calculer la moyenne par colonne\n",
    "print(np.mean(array, axis=0))"
   ]
  },
  {
   "cell_type": "code",
   "execution_count": 46,
   "metadata": {},
   "outputs": [
    {
     "name": "stdout",
     "output_type": "stream",
     "text": [
      "[193.55555556 219.33333333 154.33333333 158.55555556 198.11111111\n",
      " 139.55555556 161.33333333 172.88888889 193.55555556 144.55555556]\n"
     ]
    }
   ],
   "source": [
    "# Calculer la moyenne par ligne\n",
    "print(np.mean(array, axis=1))"
   ]
  },
  {
   "cell_type": "code",
   "execution_count": 47,
   "metadata": {},
   "outputs": [
    {
     "name": "stdout",
     "output_type": "stream",
     "text": [
      "173.0\n"
     ]
    }
   ],
   "source": [
    "print(np.median(array)) # médiane des éléments du tableau"
   ]
  },
  {
   "cell_type": "code",
   "execution_count": 48,
   "metadata": {},
   "outputs": [
    {
     "name": "stdout",
     "output_type": "stream",
     "text": [
      "108.3665567289279\n"
     ]
    }
   ],
   "source": [
    "print(np.std(array)) # écart-type des éléments du tableau"
   ]
  },
  {
   "cell_type": "code",
   "execution_count": 49,
   "metadata": {},
   "outputs": [
    {
     "name": "stdout",
     "output_type": "stream",
     "text": [
      "15622\n"
     ]
    }
   ],
   "source": [
    "print(np.sum(array)) # somme des éléments du tableau"
   ]
  },
  {
   "cell_type": "code",
   "execution_count": 50,
   "metadata": {},
   "outputs": [
    {
     "name": "stdout",
     "output_type": "stream",
     "text": [
      "11\n",
      "344\n"
     ]
    }
   ],
   "source": [
    "print(array.min()) # élément minimum du tableau\n",
    "print(array.max()) # élément maximum du tableau"
   ]
  },
  {
   "cell_type": "code",
   "execution_count": 51,
   "metadata": {},
   "outputs": [
    {
     "name": "stdout",
     "output_type": "stream",
     "text": [
      "11743.31061728395\n"
     ]
    }
   ],
   "source": [
    "# Calculer la variance des éléments du tableau\n",
    "print(np.var(array))"
   ]
  },
  {
   "cell_type": "code",
   "execution_count": 52,
   "metadata": {},
   "outputs": [
    {
     "data": {
      "text/plain": [
       "108.3665567289279"
      ]
     },
     "execution_count": 52,
     "metadata": {},
     "output_type": "execute_result"
    }
   ],
   "source": [
    "np.sqrt(np.var(array)) # écart-type des éléments du tableau (racine carrée de la variance)"
   ]
  },
  {
   "cell_type": "code",
   "execution_count": 53,
   "metadata": {},
   "outputs": [
    {
     "name": "stdout",
     "output_type": "stream",
     "text": [
      "82.75\n"
     ]
    }
   ],
   "source": [
    "print(np.percentile(array, 25)) # premier quartile des éléments du tableau"
   ]
  },
  {
   "cell_type": "code",
   "execution_count": 54,
   "metadata": {},
   "outputs": [
    {
     "name": "stdout",
     "output_type": "stream",
     "text": [
      "173.0\n"
     ]
    }
   ],
   "source": [
    "print(np.percentile(array, 50)) # deuxième quartile des éléments du tableau (médiane)"
   ]
  },
  {
   "cell_type": "code",
   "execution_count": 55,
   "metadata": {},
   "outputs": [
    {
     "name": "stdout",
     "output_type": "stream",
     "text": [
      "264.5\n"
     ]
    }
   ],
   "source": [
    "print(np.percentile(array, 75)) # troisième quartile des éléments du tableau"
   ]
  },
  {
   "cell_type": "code",
   "execution_count": 56,
   "metadata": {},
   "outputs": [
    {
     "name": "stdout",
     "output_type": "stream",
     "text": [
      "323.0\n"
     ]
    }
   ],
   "source": [
    "print(np.percentile(array, 90)) # neuvième décile des éléments du tableau"
   ]
  },
  {
   "cell_type": "code",
   "execution_count": null,
   "metadata": {},
   "outputs": [],
   "source": []
  },
  {
   "cell_type": "markdown",
   "metadata": {},
   "source": [
    "## <font color=\"red\">Problème à résoudre de la capsule 41</font>"
   ]
  },
  {
   "cell_type": "markdown",
   "metadata": {},
   "source": [
    "**Objectif : Manipuler un array contenant les prix de vente de 20 maisons vendues en 2008 dans une petite ville du Midwest**\n",
    "1. Importer les données au format array à partir du fichier houses.csv\n",
    "2. Convertir le prix des maisons en euros, sachant que 1 dollar = 0.86 euros\n",
    "3. Convertir les pieds carrés en mètres carrés, sachant que 1 pied carré = 0.09 m². \n",
    "4. Combien de maisons ont un terrain de plus de 1000 m²?\n",
    "5. Calculer la somme totale obtenue après la vente des 20 maisons.\n",
    "6. Quelle est la taille de la maison vendue la plus chère ?\n",
    "7. Juste pour l’exercice, splitter (casser) l’array en trois tableaux, puis les concaténer à nouveau pour obtenir le tableau initial."
   ]
  },
  {
   "cell_type": "code",
   "execution_count": 57,
   "metadata": {},
   "outputs": [
    {
     "name": "stdout",
     "output_type": "stream",
     "text": [
      "Help on function genfromtxt in module numpy:\n",
      "\n",
      "genfromtxt(fname, dtype=<class 'float'>, comments='#', delimiter=None, skip_header=0, skip_footer=0, converters=None, missing_values=None, filling_values=None, usecols=None, names=None, excludelist=None, deletechars=\" !#$%&'()*+,-./:;<=>?@[\\\\]^{|}~\", replace_space='_', autostrip=False, case_sensitive=True, defaultfmt='f%i', unpack=None, usemask=False, loose=True, invalid_raise=True, max_rows=None, encoding='bytes', *, ndmin=0, like=None)\n",
      "    Load data from a text file, with missing values handled as specified.\n",
      "    \n",
      "    Each line past the first `skip_header` lines is split at the `delimiter`\n",
      "    character, and characters following the `comments` character are discarded.\n",
      "    \n",
      "    Parameters\n",
      "    ----------\n",
      "    fname : file, str, pathlib.Path, list of str, generator\n",
      "        File, filename, list, or generator to read.  If the filename\n",
      "        extension is ``.gz`` or ``.bz2``, the file is first decompressed. Note\n",
      "        that generators must return bytes or strings. The strings\n",
      "        in a list or produced by a generator are treated as lines.\n",
      "    dtype : dtype, optional\n",
      "        Data type of the resulting array.\n",
      "        If None, the dtypes will be determined by the contents of each\n",
      "        column, individually.\n",
      "    comments : str, optional\n",
      "        The character used to indicate the start of a comment.\n",
      "        All the characters occurring on a line after a comment are discarded.\n",
      "    delimiter : str, int, or sequence, optional\n",
      "        The string used to separate values.  By default, any consecutive\n",
      "        whitespaces act as delimiter.  An integer or sequence of integers\n",
      "        can also be provided as width(s) of each field.\n",
      "    skiprows : int, optional\n",
      "        `skiprows` was removed in numpy 1.10. Please use `skip_header` instead.\n",
      "    skip_header : int, optional\n",
      "        The number of lines to skip at the beginning of the file.\n",
      "    skip_footer : int, optional\n",
      "        The number of lines to skip at the end of the file.\n",
      "    converters : variable, optional\n",
      "        The set of functions that convert the data of a column to a value.\n",
      "        The converters can also be used to provide a default value\n",
      "        for missing data: ``converters = {3: lambda s: float(s or 0)}``.\n",
      "    missing : variable, optional\n",
      "        `missing` was removed in numpy 1.10. Please use `missing_values`\n",
      "        instead.\n",
      "    missing_values : variable, optional\n",
      "        The set of strings corresponding to missing data.\n",
      "    filling_values : variable, optional\n",
      "        The set of values to be used as default when the data are missing.\n",
      "    usecols : sequence, optional\n",
      "        Which columns to read, with 0 being the first.  For example,\n",
      "        ``usecols = (1, 4, 5)`` will extract the 2nd, 5th and 6th columns.\n",
      "    names : {None, True, str, sequence}, optional\n",
      "        If `names` is True, the field names are read from the first line after\n",
      "        the first `skip_header` lines. This line can optionally be preceded\n",
      "        by a comment delimiter. If `names` is a sequence or a single-string of\n",
      "        comma-separated names, the names will be used to define the field names\n",
      "        in a structured dtype. If `names` is None, the names of the dtype\n",
      "        fields will be used, if any.\n",
      "    excludelist : sequence, optional\n",
      "        A list of names to exclude. This list is appended to the default list\n",
      "        ['return','file','print']. Excluded names are appended with an\n",
      "        underscore: for example, `file` would become `file_`.\n",
      "    deletechars : str, optional\n",
      "        A string combining invalid characters that must be deleted from the\n",
      "        names.\n",
      "    defaultfmt : str, optional\n",
      "        A format used to define default field names, such as \"f%i\" or \"f_%02i\".\n",
      "    autostrip : bool, optional\n",
      "        Whether to automatically strip white spaces from the variables.\n",
      "    replace_space : char, optional\n",
      "        Character(s) used in replacement of white spaces in the variable\n",
      "        names. By default, use a '_'.\n",
      "    case_sensitive : {True, False, 'upper', 'lower'}, optional\n",
      "        If True, field names are case sensitive.\n",
      "        If False or 'upper', field names are converted to upper case.\n",
      "        If 'lower', field names are converted to lower case.\n",
      "    unpack : bool, optional\n",
      "        If True, the returned array is transposed, so that arguments may be\n",
      "        unpacked using ``x, y, z = genfromtxt(...)``.  When used with a\n",
      "        structured data-type, arrays are returned for each field.\n",
      "        Default is False.\n",
      "    usemask : bool, optional\n",
      "        If True, return a masked array.\n",
      "        If False, return a regular array.\n",
      "    loose : bool, optional\n",
      "        If True, do not raise errors for invalid values.\n",
      "    invalid_raise : bool, optional\n",
      "        If True, an exception is raised if an inconsistency is detected in the\n",
      "        number of columns.\n",
      "        If False, a warning is emitted and the offending lines are skipped.\n",
      "    max_rows : int,  optional\n",
      "        The maximum number of rows to read. Must not be used with skip_footer\n",
      "        at the same time.  If given, the value must be at least 1. Default is\n",
      "        to read the entire file.\n",
      "    \n",
      "        .. versionadded:: 1.10.0\n",
      "    encoding : str, optional\n",
      "        Encoding used to decode the inputfile. Does not apply when `fname` is\n",
      "        a file object.  The special value 'bytes' enables backward compatibility\n",
      "        workarounds that ensure that you receive byte arrays when possible\n",
      "        and passes latin1 encoded strings to converters. Override this value to\n",
      "        receive unicode arrays and pass strings as input to converters.  If set\n",
      "        to None the system default is used. The default value is 'bytes'.\n",
      "    \n",
      "        .. versionadded:: 1.14.0\n",
      "    ndmin : int, optional\n",
      "        Same parameter as `loadtxt`\n",
      "    \n",
      "        .. versionadded:: 1.23.0\n",
      "    like : array_like, optional\n",
      "        Reference object to allow the creation of arrays which are not\n",
      "        NumPy arrays. If an array-like passed in as ``like`` supports\n",
      "        the ``__array_function__`` protocol, the result will be defined\n",
      "        by it. In this case, it ensures the creation of an array object\n",
      "        compatible with that passed in via this argument.\n",
      "    \n",
      "        .. versionadded:: 1.20.0\n",
      "    \n",
      "    Returns\n",
      "    -------\n",
      "    out : ndarray\n",
      "        Data read from the text file. If `usemask` is True, this is a\n",
      "        masked array.\n",
      "    \n",
      "    See Also\n",
      "    --------\n",
      "    numpy.loadtxt : equivalent function when no data is missing.\n",
      "    \n",
      "    Notes\n",
      "    -----\n",
      "    * When spaces are used as delimiters, or when no delimiter has been given\n",
      "      as input, there should not be any missing data between two fields.\n",
      "    * When the variables are named (either by a flexible dtype or with `names`),\n",
      "      there must not be any header in the file (else a ValueError\n",
      "      exception is raised).\n",
      "    * Individual values are not stripped of spaces by default.\n",
      "      When using a custom converter, make sure the function does remove spaces.\n",
      "    \n",
      "    References\n",
      "    ----------\n",
      "    .. [1] NumPy User Guide, section `I/O with NumPy\n",
      "           <https://docs.scipy.org/doc/numpy/user/basics.io.genfromtxt.html>`_.\n",
      "    \n",
      "    Examples\n",
      "    --------\n",
      "    >>> from io import StringIO\n",
      "    >>> import numpy as np\n",
      "    \n",
      "    Comma delimited file with mixed dtype\n",
      "    \n",
      "    >>> s = StringIO(u\"1,1.3,abcde\")\n",
      "    >>> data = np.genfromtxt(s, dtype=[('myint','i8'),('myfloat','f8'),\n",
      "    ... ('mystring','S5')], delimiter=\",\")\n",
      "    >>> data\n",
      "    array((1, 1.3, b'abcde'),\n",
      "          dtype=[('myint', '<i8'), ('myfloat', '<f8'), ('mystring', 'S5')])\n",
      "    \n",
      "    Using dtype = None\n",
      "    \n",
      "    >>> _ = s.seek(0) # needed for StringIO example only\n",
      "    >>> data = np.genfromtxt(s, dtype=None,\n",
      "    ... names = ['myint','myfloat','mystring'], delimiter=\",\")\n",
      "    >>> data\n",
      "    array((1, 1.3, b'abcde'),\n",
      "          dtype=[('myint', '<i8'), ('myfloat', '<f8'), ('mystring', 'S5')])\n",
      "    \n",
      "    Specifying dtype and names\n",
      "    \n",
      "    >>> _ = s.seek(0)\n",
      "    >>> data = np.genfromtxt(s, dtype=\"i8,f8,S5\",\n",
      "    ... names=['myint','myfloat','mystring'], delimiter=\",\")\n",
      "    >>> data\n",
      "    array((1, 1.3, b'abcde'),\n",
      "          dtype=[('myint', '<i8'), ('myfloat', '<f8'), ('mystring', 'S5')])\n",
      "    \n",
      "    An example with fixed-width columns\n",
      "    \n",
      "    >>> s = StringIO(u\"11.3abcde\")\n",
      "    >>> data = np.genfromtxt(s, dtype=None, names=['intvar','fltvar','strvar'],\n",
      "    ...     delimiter=[1,3,5])\n",
      "    >>> data\n",
      "    array((1, 1.3, b'abcde'),\n",
      "          dtype=[('intvar', '<i8'), ('fltvar', '<f8'), ('strvar', 'S5')])\n",
      "    \n",
      "    An example to show comments\n",
      "    \n",
      "    >>> f = StringIO('''\n",
      "    ... text,# of chars\n",
      "    ... hello world,11\n",
      "    ... numpy,5''')\n",
      "    >>> np.genfromtxt(f, dtype='S12,S12', delimiter=',')\n",
      "    array([(b'text', b''), (b'hello world', b'11'), (b'numpy', b'5')],\n",
      "      dtype=[('f0', 'S12'), ('f1', 'S12')])\n",
      "\n"
     ]
    }
   ],
   "source": [
    "# 1. importation du fichier csv\n",
    "houses = np.genfromtxt('Houses.csv', delimiter=',', dtype=int)\n",
    "help(np.genfromtxt)"
   ]
  },
  {
   "cell_type": "code",
   "execution_count": 58,
   "metadata": {},
   "outputs": [
    {
     "data": {
      "text/plain": [
       "array([[212000,   4148,  25264],\n",
       "       [230000,   2501,  11891],\n",
       "       [339000,   4374,  25351],\n",
       "       [289000,   2398,  22215],\n",
       "       [160000,   2536,   9234],\n",
       "       [ 85000,   2368,  13329],\n",
       "       [ 85000,   1264,   8407],\n",
       "       [145000,   1572,  12588],\n",
       "       [164000,   2375,  16204],\n",
       "       [123500,   1161,   9626],\n",
       "       [180000,   1542,   8755],\n",
       "       [159500,   1464,  14636],\n",
       "       [156000,   2240,  21780],\n",
       "       [146500,   1269,  11250],\n",
       "       [101500,    924,   7361],\n",
       "       [109800,    768,  10497],\n",
       "       [182000,   1320,  15768],\n",
       "       [110000,   1845,  12153],\n",
       "       [125000,   1274,  13634],\n",
       "       [ 80000,   1905,  10890]])"
      ]
     },
     "execution_count": 58,
     "metadata": {},
     "output_type": "execute_result"
    }
   ],
   "source": [
    "houses"
   ]
  },
  {
   "cell_type": "code",
   "execution_count": 59,
   "metadata": {},
   "outputs": [
    {
     "data": {
      "text/plain": [
       "['T',\n",
       " '__abs__',\n",
       " '__add__',\n",
       " '__and__',\n",
       " '__array__',\n",
       " '__array_finalize__',\n",
       " '__array_function__',\n",
       " '__array_interface__',\n",
       " '__array_prepare__',\n",
       " '__array_priority__',\n",
       " '__array_struct__',\n",
       " '__array_ufunc__',\n",
       " '__array_wrap__',\n",
       " '__bool__',\n",
       " '__class__',\n",
       " '__class_getitem__',\n",
       " '__complex__',\n",
       " '__contains__',\n",
       " '__copy__',\n",
       " '__deepcopy__',\n",
       " '__delattr__',\n",
       " '__delitem__',\n",
       " '__dir__',\n",
       " '__divmod__',\n",
       " '__dlpack__',\n",
       " '__dlpack_device__',\n",
       " '__doc__',\n",
       " '__eq__',\n",
       " '__float__',\n",
       " '__floordiv__',\n",
       " '__format__',\n",
       " '__ge__',\n",
       " '__getattribute__',\n",
       " '__getitem__',\n",
       " '__getstate__',\n",
       " '__gt__',\n",
       " '__hash__',\n",
       " '__iadd__',\n",
       " '__iand__',\n",
       " '__ifloordiv__',\n",
       " '__ilshift__',\n",
       " '__imatmul__',\n",
       " '__imod__',\n",
       " '__imul__',\n",
       " '__index__',\n",
       " '__init__',\n",
       " '__init_subclass__',\n",
       " '__int__',\n",
       " '__invert__',\n",
       " '__ior__',\n",
       " '__ipow__',\n",
       " '__irshift__',\n",
       " '__isub__',\n",
       " '__iter__',\n",
       " '__itruediv__',\n",
       " '__ixor__',\n",
       " '__le__',\n",
       " '__len__',\n",
       " '__lshift__',\n",
       " '__lt__',\n",
       " '__matmul__',\n",
       " '__mod__',\n",
       " '__mul__',\n",
       " '__ne__',\n",
       " '__neg__',\n",
       " '__new__',\n",
       " '__or__',\n",
       " '__pos__',\n",
       " '__pow__',\n",
       " '__radd__',\n",
       " '__rand__',\n",
       " '__rdivmod__',\n",
       " '__reduce__',\n",
       " '__reduce_ex__',\n",
       " '__repr__',\n",
       " '__rfloordiv__',\n",
       " '__rlshift__',\n",
       " '__rmatmul__',\n",
       " '__rmod__',\n",
       " '__rmul__',\n",
       " '__ror__',\n",
       " '__rpow__',\n",
       " '__rrshift__',\n",
       " '__rshift__',\n",
       " '__rsub__',\n",
       " '__rtruediv__',\n",
       " '__rxor__',\n",
       " '__setattr__',\n",
       " '__setitem__',\n",
       " '__setstate__',\n",
       " '__sizeof__',\n",
       " '__str__',\n",
       " '__sub__',\n",
       " '__subclasshook__',\n",
       " '__truediv__',\n",
       " '__xor__',\n",
       " 'all',\n",
       " 'any',\n",
       " 'argmax',\n",
       " 'argmin',\n",
       " 'argpartition',\n",
       " 'argsort',\n",
       " 'astype',\n",
       " 'base',\n",
       " 'byteswap',\n",
       " 'choose',\n",
       " 'clip',\n",
       " 'compress',\n",
       " 'conj',\n",
       " 'conjugate',\n",
       " 'copy',\n",
       " 'ctypes',\n",
       " 'cumprod',\n",
       " 'cumsum',\n",
       " 'data',\n",
       " 'diagonal',\n",
       " 'dot',\n",
       " 'dtype',\n",
       " 'dump',\n",
       " 'dumps',\n",
       " 'fill',\n",
       " 'flags',\n",
       " 'flat',\n",
       " 'flatten',\n",
       " 'getfield',\n",
       " 'imag',\n",
       " 'item',\n",
       " 'itemset',\n",
       " 'itemsize',\n",
       " 'max',\n",
       " 'mean',\n",
       " 'min',\n",
       " 'nbytes',\n",
       " 'ndim',\n",
       " 'newbyteorder',\n",
       " 'nonzero',\n",
       " 'partition',\n",
       " 'prod',\n",
       " 'ptp',\n",
       " 'put',\n",
       " 'ravel',\n",
       " 'real',\n",
       " 'repeat',\n",
       " 'reshape',\n",
       " 'resize',\n",
       " 'round',\n",
       " 'searchsorted',\n",
       " 'setfield',\n",
       " 'setflags',\n",
       " 'shape',\n",
       " 'size',\n",
       " 'sort',\n",
       " 'squeeze',\n",
       " 'std',\n",
       " 'strides',\n",
       " 'sum',\n",
       " 'swapaxes',\n",
       " 'take',\n",
       " 'tobytes',\n",
       " 'tofile',\n",
       " 'tolist',\n",
       " 'tostring',\n",
       " 'trace',\n",
       " 'transpose',\n",
       " 'var',\n",
       " 'view']"
      ]
     },
     "execution_count": 59,
     "metadata": {},
     "output_type": "execute_result"
    }
   ],
   "source": [
    "dir(houses)"
   ]
  },
  {
   "cell_type": "code",
   "execution_count": 60,
   "metadata": {},
   "outputs": [
    {
     "data": {
      "text/plain": [
       "(20, 3)"
      ]
     },
     "execution_count": 60,
     "metadata": {},
     "output_type": "execute_result"
    }
   ],
   "source": [
    "houses.shape # forme de la matrice (nombre de lignes, nombre de colonnes)"
   ]
  },
  {
   "cell_type": "code",
   "execution_count": 61,
   "metadata": {},
   "outputs": [],
   "source": [
    "# La première colonne représente le prix de vente des maisons en dollars\n",
    "# La deuxième colonne représente la surface de la maison en pieds carrés\n",
    "# La troisième colonne représente la surface du terrain en pieds carrés\n",
    "# 1 dolar = 0.86 euros\n",
    "# 1 pied carré = 0.09 mètre carré\n"
   ]
  },
  {
   "cell_type": "code",
   "execution_count": 62,
   "metadata": {},
   "outputs": [
    {
     "name": "stdout",
     "output_type": "stream",
     "text": [
      "[[182320   4148  25264]\n",
      " [197800   2501  11891]\n",
      " [291540   4374  25351]\n",
      " [248540   2398  22215]\n",
      " [137600   2536   9234]\n",
      " [ 73100   2368  13329]\n",
      " [ 73100   1264   8407]\n",
      " [124700   1572  12588]\n",
      " [141040   2375  16204]\n",
      " [106210   1161   9626]\n",
      " [154800   1542   8755]\n",
      " [137170   1464  14636]\n",
      " [134160   2240  21780]\n",
      " [125990   1269  11250]\n",
      " [ 87290    924   7361]\n",
      " [ 94428    768  10497]\n",
      " [156520   1320  15768]\n",
      " [ 94600   1845  12153]\n",
      " [107500   1274  13634]\n",
      " [ 68800   1905  10890]]\n"
     ]
    }
   ],
   "source": [
    "# 2. Convertir les prix des maisons en euros\n",
    "houses[:,0] = houses[:,0] * 0.86\n",
    "print(houses)"
   ]
  },
  {
   "cell_type": "code",
   "execution_count": 63,
   "metadata": {},
   "outputs": [
    {
     "name": "stdout",
     "output_type": "stream",
     "text": [
      "[[182320    373   2273]\n",
      " [197800    225   1070]\n",
      " [291540    393   2281]\n",
      " [248540    215   1999]\n",
      " [137600    228    831]\n",
      " [ 73100    213   1199]\n",
      " [ 73100    113    756]\n",
      " [124700    141   1132]\n",
      " [141040    213   1458]\n",
      " [106210    104    866]\n",
      " [154800    138    787]\n",
      " [137170    131   1317]\n",
      " [134160    201   1960]\n",
      " [125990    114   1012]\n",
      " [ 87290     83    662]\n",
      " [ 94428     69    944]\n",
      " [156520    118   1419]\n",
      " [ 94600    166   1093]\n",
      " [107500    114   1227]\n",
      " [ 68800    171    980]]\n"
     ]
    }
   ],
   "source": [
    "# 3. Convertir les pieds carrés en mètres carrés, sachant que 1 pied carré = 0.09 m². \n",
    "houses[:,1] = houses[:,1] * 0.09\n",
    "houses[:,2] = houses[:,2] * 0.09\n",
    "print(houses)"
   ]
  },
  {
   "cell_type": "code",
   "execution_count": 64,
   "metadata": {},
   "outputs": [
    {
     "name": "stdout",
     "output_type": "stream",
     "text": [
      "[[182320    373   2273]\n",
      " [197800    225   1070]\n",
      " [291540    393   2281]\n",
      " [248540    215   1999]\n",
      " [ 73100    213   1199]\n",
      " [124700    141   1132]\n",
      " [141040    213   1458]\n",
      " [137170    131   1317]\n",
      " [134160    201   1960]\n",
      " [125990    114   1012]\n",
      " [156520    118   1419]\n",
      " [ 94600    166   1093]\n",
      " [107500    114   1227]]\n",
      "Le nombre de maisons qui ont un terrain de plus de 1000 m² est :  13\n"
     ]
    }
   ],
   "source": [
    "# 4. Combien de maisons ont un terrain de plus de 1000 m² ?\n",
    "terrains_plus_1000m2 = houses[houses[:,2] > 1000] # houses[surface_terrain > 1000]\n",
    "print(terrains_plus_1000m2)\n",
    "resultat = len(terrains_plus_1000m2) # nombre de listes imbriquées c-à-d le nombre de maisons\n",
    "print(\"Le nombre de maisons qui ont un terrain de plus de 1000 m² est : \", resultat)\n"
   ]
  },
  {
   "cell_type": "code",
   "execution_count": 65,
   "metadata": {},
   "outputs": [
    {
     "name": "stdout",
     "output_type": "stream",
     "text": [
      "La somme totale obtenue après la vente des 20 maisons est :  2737208 euros\n"
     ]
    }
   ],
   "source": [
    "# 5. Calculer la somme totale obtenue après la vente des 20 maisons.\n",
    "somme_totale = np.sum(houses[:,0])\n",
    "print(\"La somme totale obtenue après la vente des 20 maisons est : \", somme_totale, \"euros\")"
   ]
  },
  {
   "cell_type": "code",
   "execution_count": 66,
   "metadata": {},
   "outputs": [
    {
     "name": "stdout",
     "output_type": "stream",
     "text": [
      "La taille de la maison vendue la plus chère est :  393 m²\n"
     ]
    }
   ],
   "source": [
    "# 6. Quelle est la taille de la maison vendue la plus chère ?\n",
    "taille_maison_plus_chere = np.max(houses[:,1])\n",
    "print(\"La taille de la maison vendue la plus chère est : \", taille_maison_plus_chere, \"m²\")\n"
   ]
  },
  {
   "cell_type": "code",
   "execution_count": 67,
   "metadata": {},
   "outputs": [
    {
     "name": "stdout",
     "output_type": "stream",
     "text": [
      "Index de la maison vendue la plus chère :  2\n",
      "La taille de la maison vendue la plus chère est :  393 m²\n"
     ]
    }
   ],
   "source": [
    "# Corrigé de la question précédente à savoir, \n",
    "# Quelle est la taille de la maison vendue la plus chère ?\n",
    "index_prix_max = np.argmax(houses[:,0])\n",
    "print(\"Index de la maison vendue la plus chère : \", index_prix_max)\n",
    "taille_maison_plus_chere = houses[index_prix_max, 1]\n",
    "print(\"La taille de la maison vendue la plus chère est : \", taille_maison_plus_chere, \"m²\")\n",
    "\n"
   ]
  },
  {
   "cell_type": "code",
   "execution_count": 68,
   "metadata": {},
   "outputs": [
    {
     "name": "stdout",
     "output_type": "stream",
     "text": [
      "array1 : \n",
      " [[182320    373   2273]\n",
      " [197800    225   1070]\n",
      " [291540    393   2281]\n",
      " [248540    215   1999]\n",
      " [137600    228    831]\n",
      " [ 73100    213   1199]]\n",
      "array2 : \n",
      " [[ 73100    113    756]\n",
      " [124700    141   1132]\n",
      " [141040    213   1458]\n",
      " [106210    104    866]\n",
      " [154800    138    787]\n",
      " [137170    131   1317]]\n",
      "array3 : \n",
      " [[134160    201   1960]\n",
      " [125990    114   1012]\n",
      " [ 87290     83    662]\n",
      " [ 94428     69    944]\n",
      " [156520    118   1419]\n",
      " [ 94600    166   1093]\n",
      " [107500    114   1227]\n",
      " [ 68800    171    980]]\n"
     ]
    }
   ],
   "source": [
    "# 7. Splitter (casser) houses en trois tableaux selon l'axe 0\n",
    "array1, array2, array3 = np.vsplit(houses, [6, 12]) # [6, 12] sont les index des premières lignes des deuxième et troisième parties\n",
    "print(\"array1 : \\n\",array1) \n",
    "print(\"array2 : \\n\",array2)\n",
    "print(\"array3 : \\n\",array3)\n"
   ]
  },
  {
   "cell_type": "code",
   "execution_count": 69,
   "metadata": {},
   "outputs": [
    {
     "name": "stdout",
     "output_type": "stream",
     "text": [
      "houses_original : \n",
      " [[182320    373   2273]\n",
      " [197800    225   1070]\n",
      " [291540    393   2281]\n",
      " [248540    215   1999]\n",
      " [137600    228    831]\n",
      " [ 73100    213   1199]\n",
      " [ 73100    113    756]\n",
      " [124700    141   1132]\n",
      " [141040    213   1458]\n",
      " [106210    104    866]\n",
      " [154800    138    787]\n",
      " [137170    131   1317]\n",
      " [134160    201   1960]\n",
      " [125990    114   1012]\n",
      " [ 87290     83    662]\n",
      " [ 94428     69    944]\n",
      " [156520    118   1419]\n",
      " [ 94600    166   1093]\n",
      " [107500    114   1227]\n",
      " [ 68800    171    980]]\n"
     ]
    }
   ],
   "source": [
    "# Concaténer array1, array2 et array3 à nouveau pour obtenir le tableau initial selon l'axe 0\n",
    "houses_original = np.concatenate([array1, array2, array3], axis=0) # concaténation selon l'axe 0 (vertical)\n",
    "print(\"houses_original : \\n\", houses_original)"
   ]
  },
  {
   "cell_type": "code",
   "execution_count": null,
   "metadata": {},
   "outputs": [],
   "source": []
  }
 ],
 "metadata": {
  "kernelspec": {
   "display_name": "base",
   "language": "python",
   "name": "python3"
  },
  "language_info": {
   "codemirror_mode": {
    "name": "ipython",
    "version": 3
   },
   "file_extension": ".py",
   "mimetype": "text/x-python",
   "name": "python",
   "nbconvert_exporter": "python",
   "pygments_lexer": "ipython3",
   "version": "3.11.5"
  }
 },
 "nbformat": 4,
 "nbformat_minor": 2
}
