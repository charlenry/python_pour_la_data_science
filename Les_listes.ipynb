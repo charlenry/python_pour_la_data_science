{
 "cells": [
  {
   "cell_type": "markdown",
   "metadata": {},
   "source": [
    "<p align=\"center\"><font size=\"6\"><b>Notebook de Charles-Henri SAINT-MARS</b></font></p>"
   ]
  },
  {
   "cell_type": "markdown",
   "metadata": {},
   "source": [
    "# **Les listes**"
   ]
  },
  {
   "cell_type": "code",
   "execution_count": 1,
   "metadata": {},
   "outputs": [],
   "source": [
    "# Les listes (équivalent des tableaux en JavaScript) sont modifiables, ordonnés et itérables.\n",
    "# Autrement dit, on peut ajouter, supprimer ou modifier des éléments individuellement dans une liste.\n",
    "# Les liste autorisent les doublons."
   ]
  },
  {
   "cell_type": "code",
   "execution_count": 2,
   "metadata": {},
   "outputs": [],
   "source": [
    "ma_liste = [1, 2, 3, 4, 5, 6, 7, 8, \"hello\", 10.5]"
   ]
  },
  {
   "cell_type": "code",
   "execution_count": 3,
   "metadata": {},
   "outputs": [
    {
     "data": {
      "text/plain": [
       "[1, 2, 3, 4, 5, 6, 7, 8, 'hello', 10.5]"
      ]
     },
     "execution_count": 3,
     "metadata": {},
     "output_type": "execute_result"
    }
   ],
   "source": [
    "ma_liste\n",
    "# Les listes sont des objets mutables"
   ]
  },
  {
   "cell_type": "code",
   "execution_count": 4,
   "metadata": {},
   "outputs": [
    {
     "name": "stdout",
     "output_type": "stream",
     "text": [
      "1\n"
     ]
    }
   ],
   "source": [
    "print(ma_liste[0])"
   ]
  },
  {
   "cell_type": "code",
   "execution_count": 5,
   "metadata": {},
   "outputs": [
    {
     "name": "stdout",
     "output_type": "stream",
     "text": [
      "[1, 2, 3]\n"
     ]
    }
   ],
   "source": [
    "# Le Slicing\n",
    "# Le slicing représente un intervalle d'index où le 2e index (index de fin) est exclu. On dit qu'il est exclusif. \n",
    "print(ma_liste[0:3])\n",
    "# Ainsi l'index 3 n'est pas inclus dans l'intervalle d'index. 3 est donc excluisif."
   ]
  },
  {
   "cell_type": "code",
   "execution_count": 6,
   "metadata": {},
   "outputs": [
    {
     "name": "stdout",
     "output_type": "stream",
     "text": [
      "[1, 2, 3]\n"
     ]
    }
   ],
   "source": [
    "# Afficher les 3 premiers éléments\n",
    "print(ma_liste[:3]) # depuis le début jusqu'à l'index 3 exclusif"
   ]
  },
  {
   "cell_type": "code",
   "execution_count": 7,
   "metadata": {},
   "outputs": [
    {
     "name": "stdout",
     "output_type": "stream",
     "text": [
      "[8, 'hello', 10.5]\n"
     ]
    }
   ],
   "source": [
    "# Afficher les 3 derniers éléments\n",
    "print(ma_liste[-3:]) # depuis le dernier élément jusqu'au 3ème élément en partant de la fin"
   ]
  },
  {
   "cell_type": "code",
   "execution_count": 8,
   "metadata": {},
   "outputs": [
    {
     "name": "stdout",
     "output_type": "stream",
     "text": [
      "[1, 3, 5, 7, 'hello']\n"
     ]
    }
   ],
   "source": [
    "# Afficher les éléments de 2 en 2 (index pairs)\n",
    "print(ma_liste[::2])"
   ]
  },
  {
   "cell_type": "code",
   "execution_count": 9,
   "metadata": {},
   "outputs": [
    {
     "name": "stdout",
     "output_type": "stream",
     "text": [
      "[4, 5, 6, 7, 8, 'hello', 10.5]\n"
     ]
    }
   ],
   "source": [
    "# Afficher les élements à partir de l'index 3\n",
    "print(ma_liste[3:])"
   ]
  },
  {
   "cell_type": "code",
   "execution_count": 10,
   "metadata": {},
   "outputs": [
    {
     "data": {
      "text/plain": [
       "([1, 2], 5, [6, 7])"
      ]
     },
     "execution_count": 10,
     "metadata": {},
     "output_type": "execute_result"
    }
   ],
   "source": [
    "ma_liste[0:2],ma_liste[4],ma_liste[5:7]\n",
    "# On obtiens un tuple (liste, élément, liste)"
   ]
  },
  {
   "cell_type": "code",
   "execution_count": 11,
   "metadata": {},
   "outputs": [
    {
     "name": "stdout",
     "output_type": "stream",
     "text": [
      "hello\n"
     ]
    }
   ],
   "source": [
    "# Afficher la chaine de caractère \"hello\"\n",
    "print(ma_liste[-2])\n",
    "# On part de la fin de la liste à partir de -1"
   ]
  },
  {
   "cell_type": "code",
   "execution_count": 12,
   "metadata": {},
   "outputs": [
    {
     "data": {
      "text/plain": [
       "[2, 3, 4, 5, 6]"
      ]
     },
     "execution_count": 12,
     "metadata": {},
     "output_type": "execute_result"
    }
   ],
   "source": [
    "ma_liste[1:-4]"
   ]
  },
  {
   "cell_type": "code",
   "execution_count": 13,
   "metadata": {},
   "outputs": [
    {
     "name": "stdout",
     "output_type": "stream",
     "text": [
      "[2, 4, 6, 8, 10.5]\n"
     ]
    }
   ],
   "source": [
    "# Afficher les éléments aux index impairs\n",
    "print(ma_liste[1::2])"
   ]
  },
  {
   "cell_type": "code",
   "execution_count": 14,
   "metadata": {},
   "outputs": [],
   "source": [
    "# Ajouter, modifier, supprimer des éléments dans une liste"
   ]
  },
  {
   "cell_type": "code",
   "execution_count": 15,
   "metadata": {},
   "outputs": [
    {
     "name": "stdout",
     "output_type": "stream",
     "text": [
      "[1, 2, 3, 4, 5, 6, 7, 8, 'hello', 10.5, 2]\n"
     ]
    }
   ],
   "source": [
    "# Ajouter un élément à la fin de la liste\n",
    "ma_liste.append(2)\n",
    "print(ma_liste)"
   ]
  },
  {
   "cell_type": "code",
   "execution_count": 16,
   "metadata": {},
   "outputs": [
    {
     "name": "stdout",
     "output_type": "stream",
     "text": [
      "[1, 2, 3, 4, 5, 'world', 6, 7, 8, 'hello', 10.5, 2]\n"
     ]
    }
   ],
   "source": [
    "# Insérer un élément à un index donné\n",
    "ma_liste.insert(5, \"world\")\n",
    "print(ma_liste)"
   ]
  },
  {
   "cell_type": "code",
   "execution_count": 17,
   "metadata": {},
   "outputs": [
    {
     "name": "stdout",
     "output_type": "stream",
     "text": [
      "[1, 2, 3, 4, 5, 'Python', 6, 7, 8, 'hello', 10.5, 2]\n"
     ]
    }
   ],
   "source": [
    "# Modifier un élément à un index donné\n",
    "ma_liste[5] = \"Python\"\n",
    "print(ma_liste)"
   ]
  },
  {
   "cell_type": "code",
   "execution_count": 18,
   "metadata": {},
   "outputs": [
    {
     "name": "stdout",
     "output_type": "stream",
     "text": [
      "[1, 20, 30, 4, 5, 'Python', 6, 7, 8, 'hello', 10.5, 2]\n"
     ]
    }
   ],
   "source": [
    "# Modifier plusieurs éléments à la fois dans une liste\n",
    "ma_liste[1:3] = [20, 30]\n",
    "print(ma_liste)"
   ]
  },
  {
   "cell_type": "code",
   "execution_count": 19,
   "metadata": {},
   "outputs": [
    {
     "name": "stdout",
     "output_type": "stream",
     "text": [
      "[1, 30, 4, 5, 'Python', 6, 7, 8, 'hello', 10.5, 2]\n"
     ]
    }
   ],
   "source": [
    "# Supprimer un élément à un index donné\n",
    "del ma_liste[1]\n",
    "print(ma_liste)"
   ]
  },
  {
   "cell_type": "code",
   "execution_count": 20,
   "metadata": {},
   "outputs": [
    {
     "name": "stdout",
     "output_type": "stream",
     "text": [
      "[1, 4, 5, 'Python', 6, 7, 8, 'hello', 10.5, 2]\n"
     ]
    }
   ],
   "source": [
    "# Autre méthode pour supprimer un élément à un index donné\n",
    "ma_liste.pop(1)\n",
    "print(ma_liste)"
   ]
  },
  {
   "cell_type": "code",
   "execution_count": 21,
   "metadata": {},
   "outputs": [
    {
     "name": "stdout",
     "output_type": "stream",
     "text": [
      "[1, 4, 5, 6, 7, 8, 'hello', 10.5, 2]\n"
     ]
    }
   ],
   "source": [
    "# Autre méthode pour supprimer un élément à un index donné\n",
    "ma_liste.remove(\"Python\")\n",
    "print(ma_liste)"
   ]
  },
  {
   "cell_type": "code",
   "execution_count": 22,
   "metadata": {},
   "outputs": [
    {
     "name": "stdout",
     "output_type": "stream",
     "text": [
      "[1, 6, 7, 8, 'hello', 10.5, 2]\n"
     ]
    }
   ],
   "source": [
    "# Supprimer plusieurs éléments à la fois dans une liste\n",
    "del ma_liste[1:3]\n",
    "print(ma_liste)"
   ]
  },
  {
   "cell_type": "code",
   "execution_count": 23,
   "metadata": {},
   "outputs": [
    {
     "name": "stdout",
     "output_type": "stream",
     "text": [
      "[1, 8, 'hello', 10.5, 2]\n"
     ]
    }
   ],
   "source": [
    "# Autre méthode pour supprimer plusieurs éléments à la fois dans une liste\n",
    "ma_liste[1:3] = []\n",
    "print(ma_liste)"
   ]
  },
  {
   "cell_type": "code",
   "execution_count": 24,
   "metadata": {},
   "outputs": [
    {
     "data": {
      "text/plain": [
       "['__add__',\n",
       " '__class__',\n",
       " '__class_getitem__',\n",
       " '__contains__',\n",
       " '__delattr__',\n",
       " '__delitem__',\n",
       " '__dir__',\n",
       " '__doc__',\n",
       " '__eq__',\n",
       " '__format__',\n",
       " '__ge__',\n",
       " '__getattribute__',\n",
       " '__getitem__',\n",
       " '__getstate__',\n",
       " '__gt__',\n",
       " '__hash__',\n",
       " '__iadd__',\n",
       " '__imul__',\n",
       " '__init__',\n",
       " '__init_subclass__',\n",
       " '__iter__',\n",
       " '__le__',\n",
       " '__len__',\n",
       " '__lt__',\n",
       " '__mul__',\n",
       " '__ne__',\n",
       " '__new__',\n",
       " '__reduce__',\n",
       " '__reduce_ex__',\n",
       " '__repr__',\n",
       " '__reversed__',\n",
       " '__rmul__',\n",
       " '__setattr__',\n",
       " '__setitem__',\n",
       " '__sizeof__',\n",
       " '__str__',\n",
       " '__subclasshook__',\n",
       " 'append',\n",
       " 'clear',\n",
       " 'copy',\n",
       " 'count',\n",
       " 'extend',\n",
       " 'index',\n",
       " 'insert',\n",
       " 'pop',\n",
       " 'remove',\n",
       " 'reverse',\n",
       " 'sort']"
      ]
     },
     "execution_count": 24,
     "metadata": {},
     "output_type": "execute_result"
    }
   ],
   "source": [
    "dir(ma_liste)"
   ]
  },
  {
   "cell_type": "code",
   "execution_count": 25,
   "metadata": {},
   "outputs": [
    {
     "data": {
      "text/plain": [
       "list"
      ]
     },
     "execution_count": 25,
     "metadata": {},
     "output_type": "execute_result"
    }
   ],
   "source": [
    "type(ma_liste)"
   ]
  },
  {
   "cell_type": "code",
   "execution_count": 26,
   "metadata": {},
   "outputs": [
    {
     "name": "stdout",
     "output_type": "stream",
     "text": [
      "Help on built-in function index:\n",
      "\n",
      "index(value, start=0, stop=9223372036854775807, /) method of builtins.list instance\n",
      "    Return first index of value.\n",
      "    \n",
      "    Raises ValueError if the value is not present.\n",
      "\n"
     ]
    }
   ],
   "source": [
    "help(ma_liste.index)"
   ]
  },
  {
   "cell_type": "code",
   "execution_count": 27,
   "metadata": {},
   "outputs": [
    {
     "name": "stdout",
     "output_type": "stream",
     "text": [
      "[1, 8, 'hello', 10.5, 2]\n"
     ]
    },
    {
     "data": {
      "text/plain": [
       "5"
      ]
     },
     "execution_count": 27,
     "metadata": {},
     "output_type": "execute_result"
    }
   ],
   "source": [
    "print(ma_liste)\n",
    "ma_liste.__len__()"
   ]
  },
  {
   "cell_type": "code",
   "execution_count": 28,
   "metadata": {},
   "outputs": [
    {
     "name": "stdout",
     "output_type": "stream",
     "text": [
      "[1, 2, 3, 4, 5, 6, 7, 8, 9, 10]\n"
     ]
    }
   ],
   "source": [
    "# Concaténation de listes\n",
    "ma_liste1 = [1, 2, 3, 4, 5]\n",
    "ma_liste2 = [6, 7, 8, 9, 10]\n",
    "ma_liste3 = ma_liste1 + ma_liste2\n",
    "print(ma_liste3)"
   ]
  },
  {
   "cell_type": "code",
   "execution_count": 29,
   "metadata": {},
   "outputs": [
    {
     "data": {
      "text/plain": [
       "55"
      ]
     },
     "execution_count": 29,
     "metadata": {},
     "output_type": "execute_result"
    }
   ],
   "source": [
    "# La somme des éléments d'une liste\n",
    "sum(ma_liste3)"
   ]
  },
  {
   "cell_type": "code",
   "execution_count": 30,
   "metadata": {},
   "outputs": [
    {
     "data": {
      "text/plain": [
       "10"
      ]
     },
     "execution_count": 30,
     "metadata": {},
     "output_type": "execute_result"
    }
   ],
   "source": [
    "# La longueur d'une liste\n",
    "len(ma_liste3)"
   ]
  },
  {
   "cell_type": "code",
   "execution_count": 31,
   "metadata": {},
   "outputs": [
    {
     "data": {
      "text/plain": [
       "3"
      ]
     },
     "execution_count": 31,
     "metadata": {},
     "output_type": "execute_result"
    }
   ],
   "source": [
    "# Compter le nombre d'occurences d'un élément dans une liste\n",
    "ma_liste4 = [1, 2, 3, 4, 5, 1, 2, 3, 1, 5]\n",
    "ma_liste4.count(1)"
   ]
  },
  {
   "cell_type": "code",
   "execution_count": 32,
   "metadata": {},
   "outputs": [
    {
     "name": "stdout",
     "output_type": "stream",
     "text": [
      "[1, 2, 3, 4, 5]\n"
     ]
    }
   ],
   "source": [
    "# Trier une liste de nombres de manière croissante\n",
    "ma_liste5 = [5, 4, 3, 2, 1]\n",
    "ma_liste5.sort()\n",
    "print(ma_liste5)"
   ]
  },
  {
   "cell_type": "code",
   "execution_count": 33,
   "metadata": {},
   "outputs": [
    {
     "name": "stdout",
     "output_type": "stream",
     "text": [
      "[5, 4, 3, 2, 1]\n"
     ]
    }
   ],
   "source": [
    "# Inverser l'ordre des éléments d'une liste\n",
    "ma_liste5.reverse()\n",
    "print(ma_liste5)"
   ]
  },
  {
   "cell_type": "code",
   "execution_count": 34,
   "metadata": {},
   "outputs": [
    {
     "name": "stdout",
     "output_type": "stream",
     "text": [
      "1\n",
      "5\n"
     ]
    }
   ],
   "source": [
    "# Trouver le minimum et le maximum d'une liste\n",
    "print(min(ma_liste5))\n",
    "print(max(ma_liste5))"
   ]
  },
  {
   "cell_type": "code",
   "execution_count": null,
   "metadata": {},
   "outputs": [],
   "source": []
  },
  {
   "cell_type": "markdown",
   "metadata": {},
   "source": [
    "## <font color=\"red\">Problème à résoudre avec les listes (capsule 19)</font>"
   ]
  },
  {
   "cell_type": "markdown",
   "metadata": {},
   "source": [
    "**Objectif : Manipuler une liste contenant les notes de 20 élèves**\n",
    "\n",
    "1. Créer une liste nommée « mes_notes » qui contient les nombres suivant : \n",
    "19,7,15,9,10,6,18,10,16,14,13,10,2,20,17,8,12,10,11,4\n",
    "2. Calculer la moyenne générale de cette classe de 20 élèves et ranger le résultat dans une variable nommée « moyenne_generale »\n",
    "3. Trouver la note la plus faible et la note la plus élevée\n",
    "4. Trier la liste des notes de la plus grande à la plus petite\n",
    "5. Remplacer la note 2 par 6\n",
    "6. Compter le nombre de notes égales à 10 dans la classe\n",
    "7. Trouver le nombre d’élèves avec une note > 10"
   ]
  },
  {
   "cell_type": "code",
   "execution_count": 35,
   "metadata": {},
   "outputs": [
    {
     "data": {
      "text/plain": [
       "20"
      ]
     },
     "execution_count": 35,
     "metadata": {},
     "output_type": "execute_result"
    }
   ],
   "source": [
    "# 1. Voici les notes de 20 élèves\n",
    "notes = [19, 7, 15, 9, 10, 6, 18, 10, 16, 14, 13, 10, 2, 20, 17, 8, 12, 10, 11, 4]\n",
    "len(notes)"
   ]
  },
  {
   "cell_type": "code",
   "execution_count": 36,
   "metadata": {},
   "outputs": [
    {
     "name": "stdout",
     "output_type": "stream",
     "text": [
      "Solution 1 : 11.55\n",
      "Solution 2 : 11.55\n"
     ]
    }
   ],
   "source": [
    "# 2. La moyenne des notes\n",
    "moyenne_generale = sum(notes) / len(notes)\n",
    "print(f\"Solution 1 : {moyenne_generale}\")\n",
    "\n",
    "# Deuxième méthode pour calculer la moyenne des notes\n",
    "import numpy as np\n",
    "moyenne_generale = np.mean(notes)\n",
    "print(f\"Solution 2 : {moyenne_generale}\")"
   ]
  },
  {
   "cell_type": "code",
   "execution_count": 37,
   "metadata": {},
   "outputs": [
    {
     "name": "stdout",
     "output_type": "stream",
     "text": [
      "2\n"
     ]
    }
   ],
   "source": [
    "# 3. La note minimale\n",
    "note_min = min(notes)\n",
    "print(note_min)"
   ]
  },
  {
   "cell_type": "code",
   "execution_count": 38,
   "metadata": {},
   "outputs": [
    {
     "name": "stdout",
     "output_type": "stream",
     "text": [
      "20\n"
     ]
    }
   ],
   "source": [
    "# La note maximale\n",
    "note_max = max(notes)\n",
    "print(note_max)"
   ]
  },
  {
   "cell_type": "code",
   "execution_count": 39,
   "metadata": {},
   "outputs": [
    {
     "name": "stdout",
     "output_type": "stream",
     "text": [
      "[20, 19, 18, 17, 16, 15, 14, 13, 12, 11, 10, 10, 10, 10, 9, 8, 7, 6, 4, 2]\n"
     ]
    }
   ],
   "source": [
    "# 4. Tri des notes en ordre décroissant\n",
    "notes.sort(reverse=True)\n",
    "print(notes)"
   ]
  },
  {
   "cell_type": "code",
   "execution_count": 40,
   "metadata": {},
   "outputs": [
    {
     "name": "stdout",
     "output_type": "stream",
     "text": [
      "[20, 19, 18, 17, 16, 15, 14, 13, 12, 11, 10, 10, 10, 10, 9, 8, 7, 6, 4, 6]\n"
     ]
    }
   ],
   "source": [
    "# 5. Remplacer la note 2 par 6\n",
    "notes[19] = 6\n",
    "print(notes)"
   ]
  },
  {
   "cell_type": "code",
   "execution_count": 41,
   "metadata": {},
   "outputs": [
    {
     "data": {
      "text/plain": [
       "4"
      ]
     },
     "execution_count": 41,
     "metadata": {},
     "output_type": "execute_result"
    }
   ],
   "source": [
    "# 6. Compter le nombre de notes égales à 10\n",
    "notes.count(10)"
   ]
  },
  {
   "cell_type": "code",
   "execution_count": 42,
   "metadata": {},
   "outputs": [
    {
     "name": "stdout",
     "output_type": "stream",
     "text": [
      "10\n"
     ]
    }
   ],
   "source": [
    "# 7. Le nombre de notes supérieures à 10\n",
    "nb_notes_sup_10 = 0\n",
    "for note in notes:\n",
    "    if note > 10:\n",
    "        nb_notes_sup_10 += 1\n",
    "print(nb_notes_sup_10)"
   ]
  },
  {
   "cell_type": "code",
   "execution_count": 43,
   "metadata": {},
   "outputs": [
    {
     "name": "stdout",
     "output_type": "stream",
     "text": [
      "10\n"
     ]
    }
   ],
   "source": [
    "# Deuxième méthode pour compter le nombre de notes supérieures à 10\n",
    "nb_notes_sup_10 = len([note for note in notes if note > 10])\n",
    "print(nb_notes_sup_10)"
   ]
  },
  {
   "cell_type": "code",
   "execution_count": 44,
   "metadata": {},
   "outputs": [
    {
     "name": "stdout",
     "output_type": "stream",
     "text": [
      "10\n"
     ]
    }
   ],
   "source": [
    "# Troisième méthode pour compter le nombre de notes supérieures à 10\n",
    "nb_notes_sup_10 = sum([note > 10 for note in notes])\n",
    "print(nb_notes_sup_10)"
   ]
  },
  {
   "cell_type": "code",
   "execution_count": 45,
   "metadata": {},
   "outputs": [
    {
     "name": "stdout",
     "output_type": "stream",
     "text": [
      "[20 19 18 17 16 15 14 13 12 11 10 10 10 10  9  8  7  6  4  6]\n",
      "10\n"
     ]
    }
   ],
   "source": [
    "# Quatrième méthode pour compter le nombre de notes supérieures à 10\n",
    "notes_array = np.array(notes)\n",
    "print(notes_array)\n",
    "nb_notes_sup_10 = len(notes_array[notes_array > 10])\n",
    "print(nb_notes_sup_10)"
   ]
  },
  {
   "cell_type": "code",
   "execution_count": null,
   "metadata": {},
   "outputs": [],
   "source": []
  }
 ],
 "metadata": {
  "kernelspec": {
   "display_name": "base",
   "language": "python",
   "name": "python3"
  },
  "language_info": {
   "codemirror_mode": {
    "name": "ipython",
    "version": 3
   },
   "file_extension": ".py",
   "mimetype": "text/x-python",
   "name": "python",
   "nbconvert_exporter": "python",
   "pygments_lexer": "ipython3",
   "version": "3.11.5"
  }
 },
 "nbformat": 4,
 "nbformat_minor": 2
}
