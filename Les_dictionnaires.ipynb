{
 "cells": [
  {
   "cell_type": "markdown",
   "metadata": {},
   "source": [
    "<p align=\"center\"><font size=\"6\"><b>Notebook de Charles-Henri SAINT-MARS</b></font></p>"
   ]
  },
  {
   "cell_type": "markdown",
   "metadata": {},
   "source": [
    "# **Les dictionnaires**"
   ]
  },
  {
   "cell_type": "code",
   "execution_count": 1,
   "metadata": {},
   "outputs": [],
   "source": [
    "# Un dictionnaire est une collection ordonnée*, modifiable, indexée et itérable. En Python, les dictionnaires sont écrits avec des accolades et ils ont des pairs de clé:valeur.\n",
    "# Les dictionnaires n'autorisent pas les clés en double. Lorsque des clés en double sont trouvées, la dernière valeur est conservée.\n",
    "\n",
    "# À partir de la version 3.7 de Python, les dictionnaires sont ordonnés. Dans Python 3.6 et versions antérieures, les dictionnaires ne sont pas ordonnés."
   ]
  },
  {
   "cell_type": "code",
   "execution_count": 2,
   "metadata": {},
   "outputs": [
    {
     "name": "stdout",
     "output_type": "stream",
     "text": [
      "{'Marie': 15, 'Jean': 20, 'Pierre': 'absent', 'Paul': 30, 'Jacques': 35}\n"
     ]
    }
   ],
   "source": [
    "mon_dictionnaire = {\n",
    "  \"Marie\": 15,\n",
    "  \"Jean\": 20,\n",
    "  \"Pierre\": \"absent\",\n",
    "  \"Paul\": 30,\n",
    "  \"Jacques\": 35\n",
    "}\n",
    "print(mon_dictionnaire)"
   ]
  },
  {
   "cell_type": "code",
   "execution_count": 3,
   "metadata": {},
   "outputs": [
    {
     "data": {
      "text/plain": [
       "15"
      ]
     },
     "execution_count": 3,
     "metadata": {},
     "output_type": "execute_result"
    }
   ],
   "source": [
    "mon_dictionnaire[\"Marie\"] "
   ]
  },
  {
   "cell_type": "code",
   "execution_count": 4,
   "metadata": {},
   "outputs": [
    {
     "name": "stdout",
     "output_type": "stream",
     "text": [
      "{'Marie': 15, 'Jean': 20, 'Pierre': 'absent', 'Paul': 30, 'Jacques': 35, 'Jeanne': 25}\n"
     ]
    }
   ],
   "source": [
    "# ajouter un élément  à un dictionnaire\n",
    "mon_dictionnaire[\"Jeanne\"] = 25\n",
    "print(mon_dictionnaire)"
   ]
  },
  {
   "cell_type": "code",
   "execution_count": 5,
   "metadata": {},
   "outputs": [
    {
     "name": "stdout",
     "output_type": "stream",
     "text": [
      "{'Marie': 15, 'Jean': 20, 'Pierre': 'absent', 'Paul': 30, 'Jacques': 35, 'Jeanne': 26}\n"
     ]
    }
   ],
   "source": [
    "# modifer un élément d'un dictionnaire\n",
    "mon_dictionnaire[\"Jeanne\"] = 26\n",
    "print(mon_dictionnaire)"
   ]
  },
  {
   "cell_type": "code",
   "execution_count": 6,
   "metadata": {},
   "outputs": [
    {
     "name": "stdout",
     "output_type": "stream",
     "text": [
      "{'Marie': 15, 'Jean': 20, 'Pierre': 'absent', 'Paul': 30, 'Jacques': 35}\n"
     ]
    }
   ],
   "source": [
    "# supprimer un élément d'un dictionnaire\n",
    "del mon_dictionnaire[\"Jeanne\"]\n",
    "print(mon_dictionnaire)"
   ]
  },
  {
   "cell_type": "code",
   "execution_count": 7,
   "metadata": {},
   "outputs": [],
   "source": [
    "# Il y a 3 façons de parcourir un dictionnaire: \n",
    "# 1. parcourir les clés\n",
    "# for x in mon_dictionnaire:\n",
    "#   print(x)\n",
    "# 2. parcourir les valeurs \n",
    "# for x in mon_dictionnaire:\n",
    "#   print(mon_dictionnaire[x])\n",
    "# 3. parcourir les clés et les valeurs\n",
    "# for x, y in mon_dictionnaire.items():\n",
    "#   print(x, y)"
   ]
  },
  {
   "cell_type": "code",
   "execution_count": 8,
   "metadata": {},
   "outputs": [
    {
     "data": {
      "text/plain": [
       "dict_keys(['Marie', 'Jean', 'Pierre', 'Paul', 'Jacques'])"
      ]
     },
     "execution_count": 8,
     "metadata": {},
     "output_type": "execute_result"
    }
   ],
   "source": [
    "mon_dictionnaire.keys()"
   ]
  },
  {
   "cell_type": "code",
   "execution_count": 9,
   "metadata": {},
   "outputs": [
    {
     "data": {
      "text/plain": [
       "dict_values([15, 20, 'absent', 30, 35])"
      ]
     },
     "execution_count": 9,
     "metadata": {},
     "output_type": "execute_result"
    }
   ],
   "source": [
    "mon_dictionnaire.values()"
   ]
  },
  {
   "cell_type": "code",
   "execution_count": 10,
   "metadata": {},
   "outputs": [
    {
     "data": {
      "text/plain": [
       "dict_items([('Marie', 15), ('Jean', 20), ('Pierre', 'absent'), ('Paul', 30), ('Jacques', 35)])"
      ]
     },
     "execution_count": 10,
     "metadata": {},
     "output_type": "execute_result"
    }
   ],
   "source": [
    "mon_dictionnaire.items()"
   ]
  },
  {
   "cell_type": "code",
   "execution_count": 11,
   "metadata": {},
   "outputs": [
    {
     "data": {
      "text/plain": [
       "20"
      ]
     },
     "execution_count": 11,
     "metadata": {},
     "output_type": "execute_result"
    }
   ],
   "source": [
    "mon_dictionnaire.get(\"Jean\") # retourne la valeur de la clé spécifiée\n",
    "\n",
    "# Deuxième_méthode\n",
    "# mon_dictionnaire[\"Jean\"]"
   ]
  },
  {
   "cell_type": "code",
   "execution_count": 12,
   "metadata": {},
   "outputs": [
    {
     "name": "stdout",
     "output_type": "stream",
     "text": [
      "Marie\n",
      "Jean\n",
      "Pierre\n",
      "Paul\n",
      "Jacques\n"
     ]
    }
   ],
   "source": [
    "for cle in mon_dictionnaire.keys():\n",
    "  print(cle)"
   ]
  },
  {
   "cell_type": "code",
   "execution_count": 13,
   "metadata": {},
   "outputs": [
    {
     "name": "stdout",
     "output_type": "stream",
     "text": [
      "15\n",
      "20\n",
      "absent\n",
      "30\n",
      "35\n"
     ]
    }
   ],
   "source": [
    "for valeur in mon_dictionnaire.values():\n",
    "  print(valeur)"
   ]
  },
  {
   "cell_type": "code",
   "execution_count": 14,
   "metadata": {},
   "outputs": [
    {
     "name": "stdout",
     "output_type": "stream",
     "text": [
      "Marie 15\n",
      "Jean 20\n",
      "Pierre absent\n",
      "Paul 30\n",
      "Jacques 35\n"
     ]
    }
   ],
   "source": [
    "for (cle, valeur) in mon_dictionnaire.items():\n",
    "  print(cle, valeur)\n"
   ]
  },
  {
   "cell_type": "code",
   "execution_count": 15,
   "metadata": {},
   "outputs": [
    {
     "name": "stdout",
     "output_type": "stream",
     "text": [
      "The largest key: 2\n",
      "The key with the largest value: -3\n",
      "The largest value: 9\n"
     ]
    }
   ],
   "source": [
    "square = {2: 4, -3: 9, -1: 1, -2: 4}\n",
    "\n",
    "# the largest key\n",
    "key1 = max(square)\n",
    "print(\"The largest key:\", key1)    # 2\n",
    "\n",
    "# the key whose value is the largest\n",
    "key2 = max(square, key = lambda k: square[k])\n",
    "\n",
    "print(\"The key with the largest value:\", key2)    # -3\n",
    "\n",
    "# getting the largest value\n",
    "print(\"The largest value:\", square[key2])    # 9"
   ]
  },
  {
   "cell_type": "code",
   "execution_count": null,
   "metadata": {},
   "outputs": [],
   "source": []
  },
  {
   "cell_type": "markdown",
   "metadata": {},
   "source": [
    " ## <font color=\"red\">Problème à résoudre de la capsule 31</font>"
   ]
  },
  {
   "cell_type": "markdown",
   "metadata": {},
   "source": [
    "**Objectif : Manipuler un dictionnaire contenant les notes de 15 élèves**\n",
    "1. Créer un dictionnaire nommé notes_eleves contenant les notes suivantes :\n",
    "\tMarie : 15; Samuel : 17; Gaston : 12; Fred : 10; Mae : 5; Julie : 15; Zoe : 7; Claire : 20; Chloe : 8; Julien : 14, Gaël : 9, Samia : 15, Omar : 11, Gabriel : 16, Manon :2\n",
    "2. Quelle est la moyenne de la classe ?\n",
    "3. Afficher le nombre total d’élèves dans la classe.\n",
    "4. Combien d’élèves ont une note strictement supérieure à la moyenne ?\n",
    "5. Quel est le prénom du meilleur élève de la classe ?\n",
    "6. Combien d’élèves ont un prénom avec strictement moins de 4 lettres ?\n",
    "7. Afficher le prénom des élèves qui ont une note paire (multiple de 2)."
   ]
  },
  {
   "cell_type": "code",
   "execution_count": 16,
   "metadata": {},
   "outputs": [],
   "source": [
    "# 1. Notes des élèves\n",
    "notes_eleves = {\n",
    "  \"Marie\": 15,\n",
    "  \"Samnuel\": 17,\n",
    "  \"Gaston\": 12,\n",
    "  \"Fred\": 10,\n",
    "  \"Mae\": 5,\n",
    "  \"Julie\": 15,\n",
    "  \"Zoe\": 7,\n",
    "  \"Claire\": 20,\n",
    "  \"Chloe\": 8,\n",
    "  \"Julien\": 14,\n",
    "  \"Gaël\": 9,\n",
    "  \"Samia\": 15,\n",
    "  \"Omar\": 11,\n",
    "  \"Gabriel\": 16,\n",
    "  \"Manon\": 2\n",
    "}"
   ]
  },
  {
   "cell_type": "code",
   "execution_count": 17,
   "metadata": {},
   "outputs": [
    {
     "name": "stdout",
     "output_type": "stream",
     "text": [
      "La moyenne générale de la classe est de 11.73 sur 20\n"
     ]
    }
   ],
   "source": [
    "# 2. Moyenne de la classe\n",
    "moyenne_classe = sum(notes_eleves.values()) / len(notes_eleves)\n",
    "print(\"La moyenne générale de la classe est de %.2f\" % moyenne_classe, \"sur 20\")\n",
    "\n",
    "# Deuxième méthode :\n",
    "# somme = 0\n",
    "# for note in notes_eleves.values():\n",
    "#   somme += note\n",
    "# moyenne_classe = somme / len(notes_eleves)\n",
    "# print(\"La moyenne de la classe est de\", moyenne_classe) \n",
    "\n",
    "# Troisème méthode :\n",
    "# import numpy as np\n",
    "# moyenne_classe = np.mean(list(notes_eleves.values()))\n",
    "# print(\"La moyenne de la classe est de\", moyenne_classe)"
   ]
  },
  {
   "cell_type": "code",
   "execution_count": 18,
   "metadata": {},
   "outputs": [
    {
     "name": "stdout",
     "output_type": "stream",
     "text": [
      "Le nombre total d’élèves dans la classe est de 15\n"
     ]
    }
   ],
   "source": [
    "# 3. Afficher le nombre total d’élèves dans la classe.\n",
    "nombre_eleves = len(notes_eleves)\n",
    "print(\"Le nombre total d’élèves dans la classe est de\", nombre_eleves)"
   ]
  },
  {
   "cell_type": "code",
   "execution_count": 19,
   "metadata": {},
   "outputs": [
    {
     "name": "stdout",
     "output_type": "stream",
     "text": [
      "Le nombre d’élèves ayant une note strictement supérieure à la moyenne est de 8\n"
     ]
    }
   ],
   "source": [
    "# 4. Combien d’élèves ont une note strictement supérieure à la moyenne ?\n",
    "nombre_eleves_sup_moyenne = 0\n",
    "for note in notes_eleves.values():\n",
    "  if note > moyenne_classe:\n",
    "    nombre_eleves_sup_moyenne += 1\n",
    "print(\"Le nombre d’élèves ayant une note strictement supérieure à la moyenne est de\", nombre_eleves_sup_moyenne)"
   ]
  },
  {
   "cell_type": "code",
   "execution_count": 20,
   "metadata": {},
   "outputs": [
    {
     "name": "stdout",
     "output_type": "stream",
     "text": [
      "Le meilleur élève de la classe est Claire\n"
     ]
    }
   ],
   "source": [
    "# 5. Quel est le prénom du meilleur élève de la classe ?\n",
    "meilleur_eleve = max(notes_eleves, key = notes_eleves.get) # retourne la clé ayant la plus grande valeur\n",
    "print(\"Le meilleur élève de la classe est\", meilleur_eleve)"
   ]
  },
  {
   "cell_type": "code",
   "execution_count": 21,
   "metadata": {},
   "outputs": [
    {
     "name": "stdout",
     "output_type": "stream",
     "text": [
      "Le nombre d’élèves ayant un prénom avec strictement moins de 4 lettres est de 2\n"
     ]
    }
   ],
   "source": [
    "# 6. Combien d’élèves ont un prénom avec strictement moins de 4 lettres ?\n",
    "nombre_eleves_4_lettres = 0\n",
    "for eleve in notes_eleves.keys():\n",
    "  if len(eleve) < 4:\n",
    "    nombre_eleves_4_lettres += 1\n",
    "print(\"Le nombre d’élèves ayant un prénom avec strictement moins de 4 lettres est de\", nombre_eleves_4_lettres)"
   ]
  },
  {
   "cell_type": "code",
   "execution_count": 22,
   "metadata": {},
   "outputs": [
    {
     "name": "stdout",
     "output_type": "stream",
     "text": [
      "Les élèves ayant une note paire sont ['Gaston', 'Fred', 'Claire', 'Chloe', 'Julien', 'Gabriel', 'Manon']\n"
     ]
    }
   ],
   "source": [
    "# 7. Afficher le prénom des élèves qui ont une note paire (multiple de 2)\n",
    "eleves_note_paire = []\n",
    "for eleve, note in notes_eleves.items():\n",
    "  if note % 2 == 0:\n",
    "    eleves_note_paire.append(eleve)\n",
    "print(\"Les élèves ayant une note paire sont\", eleves_note_paire)"
   ]
  },
  {
   "cell_type": "code",
   "execution_count": null,
   "metadata": {},
   "outputs": [],
   "source": []
  }
 ],
 "metadata": {
  "kernelspec": {
   "display_name": "base",
   "language": "python",
   "name": "python3"
  },
  "language_info": {
   "codemirror_mode": {
    "name": "ipython",
    "version": 3
   },
   "file_extension": ".py",
   "mimetype": "text/x-python",
   "name": "python",
   "nbconvert_exporter": "python",
   "pygments_lexer": "ipython3",
   "version": "3.11.5"
  }
 },
 "nbformat": 4,
 "nbformat_minor": 2
}
